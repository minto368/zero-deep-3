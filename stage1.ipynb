{
 "cells": [
  {
   "cell_type": "markdown",
   "metadata": {},
   "source": [
    "# 第１ステージ　ステップ1-10"
   ]
  },
  {
   "cell_type": "code",
   "execution_count": 1,
   "metadata": {},
   "outputs": [],
   "source": [
    "import numpy as np"
   ]
  },
  {
   "cell_type": "markdown",
   "metadata": {},
   "source": [
    "## ステップ１"
   ]
  },
  {
   "cell_type": "markdown",
   "metadata": {},
   "source": [
    "### 1.1変数とは\n",
    "- 省略"
   ]
  },
  {
   "cell_type": "markdown",
   "metadata": {},
   "source": [
    "### 1.2 Variableクラスの実装"
   ]
  },
  {
   "cell_type": "code",
   "execution_count": 2,
   "metadata": {},
   "outputs": [],
   "source": [
    "class Variable:\n",
    "    def __init__(self, data):\n",
    "        self.data = data"
   ]
  },
  {
   "cell_type": "code",
   "execution_count": 3,
   "metadata": {},
   "outputs": [
    {
     "data": {
      "text/plain": [
       "array(1.)"
      ]
     },
     "execution_count": 3,
     "metadata": {},
     "output_type": "execute_result"
    }
   ],
   "source": [
    "data = np.array(1.0)\n",
    "x = Variable(data)\n",
    "x.data"
   ]
  },
  {
   "cell_type": "code",
   "execution_count": 4,
   "metadata": {},
   "outputs": [
    {
     "data": {
      "text/plain": [
       "array(2.)"
      ]
     },
     "execution_count": 4,
     "metadata": {},
     "output_type": "execute_result"
    }
   ],
   "source": [
    "x.data = np.array(2.)\n",
    "x.data"
   ]
  },
  {
   "cell_type": "markdown",
   "metadata": {},
   "source": [
    "### 1.3 【補足】Nunpyの多次元配列\n",
    "- 省略"
   ]
  },
  {
   "cell_type": "markdown",
   "metadata": {},
   "source": [
    "## ステップ２"
   ]
  },
  {
   "cell_type": "markdown",
   "metadata": {},
   "source": [
    "### 2.2 Functionクラスの実装"
   ]
  },
  {
   "cell_type": "code",
   "execution_count": 6,
   "metadata": {},
   "outputs": [],
   "source": [
    "class Function:\n",
    "    def __call__(self, input):\n",
    "        x = input.data # データを取り出す\n",
    "        y = x ** 2 # 実際の計算\n",
    "        output = Variable(y) # Variableとして返す\n",
    "        return output"
   ]
  },
  {
   "cell_type": "code",
   "execution_count": 7,
   "metadata": {},
   "outputs": [],
   "source": [
    "x = Variable(np.array(10))\n",
    "f = Function()\n",
    "y = f(x)"
   ]
  },
  {
   "cell_type": "code",
   "execution_count": 8,
   "metadata": {},
   "outputs": [
    {
     "name": "stdout",
     "output_type": "stream",
     "text": [
      "<class '__main__.Variable'>\n",
      "100\n"
     ]
    }
   ],
   "source": [
    "print(type(y))\n",
    "print(y.data)"
   ]
  },
  {
   "cell_type": "markdown",
   "metadata": {},
   "source": [
    "### 2.3 Functionクラスを使う\n",
    "\n",
    "1. Functionクラスは基底クラスとして、全ての関数に共通する機能を実装する\n",
    "2. 具体的な関数は、Functionクラスを継承したクラスで実装する\n",
    "\n",
    "以上の点を考慮し、Functionクラスを実装"
   ]
  },
  {
   "cell_type": "code",
   "execution_count": 9,
   "metadata": {},
   "outputs": [],
   "source": [
    "class Function:\n",
    "    def __call__(self, input):\n",
    "        x = input.data\n",
    "        y = self.forward(x) # 具体的な計算はforwardメソッドで行う。\n",
    "        output = Variable(y)\n",
    "        return output\n",
    "    \n",
    "    def forward(self, x):\n",
    "        # 例外処理を行い、このクラスを継承すべきであるとアピール\n",
    "        raise NotImplementedError()"
   ]
  },
  {
   "cell_type": "markdown",
   "metadata": {},
   "source": [
    "- Functionクラスを継承して、Squareクラスを実装してみる"
   ]
  },
  {
   "cell_type": "code",
   "execution_count": 10,
   "metadata": {},
   "outputs": [],
   "source": [
    "class Square(Function):\n",
    "    def forward(self, x):\n",
    "        return x ** 2"
   ]
  },
  {
   "cell_type": "code",
   "execution_count": 12,
   "metadata": {},
   "outputs": [
    {
     "name": "stdout",
     "output_type": "stream",
     "text": [
      "<class '__main__.Variable'>\n",
      "100\n"
     ]
    }
   ],
   "source": [
    "x = Variable(np.array(10))\n",
    "f = Square()\n",
    "y = f(x)\n",
    "print(type(y))\n",
    "print(y.data)"
   ]
  },
  {
   "cell_type": "markdown",
   "metadata": {},
   "source": [
    "## ステップ３　関数の連結"
   ]
  },
  {
   "cell_type": "markdown",
   "metadata": {},
   "source": [
    "### 3.1 Exp関数の実装"
   ]
  },
  {
   "cell_type": "markdown",
   "metadata": {},
   "source": [
    "- Functionクラスを継承して、$y=e^x$を実装"
   ]
  },
  {
   "cell_type": "code",
   "execution_count": 13,
   "metadata": {},
   "outputs": [],
   "source": [
    "class Exp(Function):\n",
    "    def forward(self, x):\n",
    "        return np.exp(x)"
   ]
  },
  {
   "cell_type": "markdown",
   "metadata": {},
   "source": [
    "### 3.2関数を連結する\n",
    "- Functionクラスを継承したクラスを連結して、$y=(e^{x^2})^2$を実装\n",
    "<br>\n",
    "- 実装の流れ<br>\n",
    "$x$ &rArr; Square() &rArr; $x^2$ &rArr; Exp() &rArr; $e^{x^2}$ &rArr; Square() &rArr; $(e^{x^2})^2$"
   ]
  },
  {
   "cell_type": "code",
   "execution_count": 14,
   "metadata": {},
   "outputs": [
    {
     "name": "stdout",
     "output_type": "stream",
     "text": [
      "1.648721270700128\n"
     ]
    }
   ],
   "source": [
    "A = Square()\n",
    "B = Exp()\n",
    "C = Square()\n",
    "\n",
    "x = Variable(np.array(0.5))\n",
    "a = A(x) # x^2\n",
    "b = B(a) # e^(x^2)\n",
    "y = C(b) # (e^(x^2))^2\n",
    "print(y.data)"
   ]
  },
  {
   "cell_type": "markdown",
   "metadata": {},
   "source": [
    "## ステップ５　バックプロパゲーションの理論\n",
    "- チェインルール\n",
    "3.2の場合で$\\frac{dy}{dx}$を計算してみる<br>\n",
    "- 微分の公式通りであれば以下のようになる。\n",
    "$$lim_{h \\to 0} \\frac{f(x+h)-f(x)}{h}$$\n",
    "- 公式通りに微分することの問題点\n",
    "1. 誤差が含まれやすい\n",
    "2. 計算コストが大きすぎる。ニューラルネットの場合更新するパラメータが膨大\n",
    "\n",
    "そこでチェインルールによるバックプロパゲーションの出番\n",
    "<br>\n",
    "\n",
    "3.2では順伝播は以下のようになっている<br>\n",
    "$x$ &rArr; *A* &rArr; $x^2$ &rArr; *B* &rArr; $e^{x^2}$ &rArr; *C* &rArr; $(e^{x^2})^2$\n",
    "\n",
    "ここで、\n",
    "$$\\frac{dy}{dx}=((\\frac{dy}{dy}\\frac{dy}{db})\\frac{db}{da}\\frac{da}{dx})$$\n",
    "であることから、順伝播と逆伝播は以下のような関係といえる。<br>\n",
    "$x$ &rArr; *A* &rArr; $a$ &rArr; *B* &rArr; $b$ &rArr; *C* &rArr; $y$<br>\n",
    "<br>\n",
    "$\\frac{dy}{dx}=((\\frac{dy}{dy}\\frac{dy}{db})\\frac{db}{da})\\frac{da}{dx}$ &lArr; $A'(x)$ &lArr; $\\frac{dy}{da}=(\\frac{dy}{dy}\\frac{dy}{db})\\frac{db}{da}$ &lArr; $B'(a)$ &lArr; $\\frac{dy}{db}=\\frac{dy}{dy}\\frac{dy}{db}$ &lArr; $C'(b)$ &lArr; $\\frac{dy}{dy}=1$\n"
   ]
  },
  {
   "cell_type": "markdown",
   "metadata": {},
   "source": [
    "## ステップ６　手作業によるバックプロパゲーション"
   ]
  },
  {
   "cell_type": "markdown",
   "metadata": {},
   "source": [
    "### 6.1 Variableクラスの追加実装\n",
    "- Variableクラスを通常の値(data)に加えて、それに対応する微分した値(grad)を持つよう拡張"
   ]
  },
  {
   "cell_type": "code",
   "execution_count": 15,
   "metadata": {},
   "outputs": [],
   "source": [
    "class Variable:\n",
    "    def __init__(self, data):\n",
    "        self.data = data\n",
    "        self.grad = None"
   ]
  },
  {
   "cell_type": "markdown",
   "metadata": {},
   "source": [
    "### 6.2 Functionクラスの追加実装\n",
    "- Functionクラスに２つの機能を追加\n",
    "1. 微分の計算を行う逆伝播の機能(backwardメソッド)\n",
    "2. forwardメソッドを呼ぶ際に、入力されたVariableインスタンスを保持する機能"
   ]
  },
  {
   "cell_type": "code",
   "execution_count": 16,
   "metadata": {},
   "outputs": [],
   "source": [
    "class Function:\n",
    "    def __call__(self, input):\n",
    "        x = input.data\n",
    "        y = self.forward(x) # 具体的な計算はforwardメソッドで行う。\n",
    "        output = Variable(y)\n",
    "        self.input = input # 入力された変数を覚える\n",
    "        return output\n",
    "    \n",
    "    def forward(self, x):\n",
    "        # 例外処理を行い、このクラスを継承すべきであるとアピール\n",
    "        raise NotImplementedError()\n",
    "    \n",
    "    def backward(self, gy):\n",
    "        raise NotImplementedError()"
   ]
  },
  {
   "cell_type": "markdown",
   "metadata": {},
   "source": [
    "### 6.3 SquareとExpクラスの追加実装"
   ]
  },
  {
   "cell_type": "code",
   "execution_count": 17,
   "metadata": {},
   "outputs": [],
   "source": [
    "class Square(Function):\n",
    "    def forward(self, x):\n",
    "        y = x ** 2\n",
    "        return y\n",
    "    \n",
    "    def backward(self, gy):\n",
    "        x = self.input.data\n",
    "        gx = 2 * x * gy\n",
    "        return gx"
   ]
  },
  {
   "cell_type": "code",
   "execution_count": 18,
   "metadata": {},
   "outputs": [],
   "source": [
    "class Exp(Function):\n",
    "    def forward(self, x):\n",
    "        y = np.exp(x)\n",
    "        return y\n",
    "    \n",
    "    def backward(self, gy):\n",
    "        x = self.input.data\n",
    "        gx = np.exp(x) * gy\n",
    "        return gx"
   ]
  },
  {
   "cell_type": "markdown",
   "metadata": {},
   "source": [
    "### 6.4 バックプロパゲーションの実装"
   ]
  },
  {
   "cell_type": "code",
   "execution_count": 20,
   "metadata": {},
   "outputs": [],
   "source": [
    "# 順伝播の実装\n",
    "A = Square()\n",
    "B = Exp()\n",
    "C = Square()\n",
    "\n",
    "x = Variable(np.array(0.5))\n",
    "a = A(x) # x^2\n",
    "b = B(a) # e^(x^2)\n",
    "y = C(b) # (e^(x^2))^2"
   ]
  },
  {
   "cell_type": "code",
   "execution_count": 21,
   "metadata": {},
   "outputs": [
    {
     "name": "stdout",
     "output_type": "stream",
     "text": [
      "3.297442541400256\n"
     ]
    }
   ],
   "source": [
    "# 逆伝播の実装\n",
    "y.grad = np.array(1.)\n",
    "b.grad = C.backward(y.grad)\n",
    "a.grad = B.backward(b.grad)\n",
    "x.grad = A.backward(a.grad)\n",
    "print(x.grad)"
   ]
  },
  {
   "cell_type": "code",
   "execution_count": 28,
   "metadata": {},
   "outputs": [
    {
     "name": "stdout",
     "output_type": "stream",
     "text": [
      "3.2981021178524195\n"
     ]
    }
   ],
   "source": [
    "# 定義通りの微分\n",
    "def f(x):\n",
    "    A = Square()\n",
    "    B = Exp()\n",
    "    C = Square()\n",
    "    return C(B(A(x)))\n",
    "\n",
    "def numerical_diff(f, x, eps=1e-4):\n",
    "    x1 = Variable(x.data + eps)\n",
    "    y1 = f(x1)\n",
    "    y0 = f(x)\n",
    "    return (y1.data - y0.data) / eps\n",
    "\n",
    "h = np.array(1e-5)\n",
    "x = Variable(np.array(0.5))\n",
    "x_dif = numerical_diff(f, x)\n",
    "print(x_dif)"
   ]
  },
  {
   "cell_type": "code",
   "execution_count": null,
   "metadata": {},
   "outputs": [],
   "source": []
  }
 ],
 "metadata": {
  "kernelspec": {
   "display_name": "Python 3.7.10 ('pytorch': conda)",
   "language": "python",
   "name": "python3"
  },
  "language_info": {
   "codemirror_mode": {
    "name": "ipython",
    "version": 3
   },
   "file_extension": ".py",
   "mimetype": "text/x-python",
   "name": "python",
   "nbconvert_exporter": "python",
   "pygments_lexer": "ipython3",
   "version": "3.7.10"
  },
  "orig_nbformat": 4,
  "vscode": {
   "interpreter": {
    "hash": "d62b7059efc6466fc95c4734c71a3d4ec880ec93371e3e4a23230bdabcccc75d"
   }
  }
 },
 "nbformat": 4,
 "nbformat_minor": 2
}
