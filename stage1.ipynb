{
 "cells": [
  {
   "cell_type": "markdown",
   "metadata": {},
   "source": [
    "# 第１ステージ　ステップ1-10"
   ]
  },
  {
   "cell_type": "code",
   "execution_count": 1,
   "metadata": {},
   "outputs": [],
   "source": [
    "import numpy as np"
   ]
  },
  {
   "cell_type": "markdown",
   "metadata": {},
   "source": [
    "## ステップ１"
   ]
  },
  {
   "cell_type": "markdown",
   "metadata": {},
   "source": [
    "### 1.1変数とは\n",
    "- 省略"
   ]
  },
  {
   "cell_type": "markdown",
   "metadata": {},
   "source": [
    "### 1.2 Variableクラスの実装"
   ]
  },
  {
   "cell_type": "code",
   "execution_count": 2,
   "metadata": {},
   "outputs": [],
   "source": [
    "class Variable:\n",
    "    def __init__(self, data):\n",
    "        self.data = data"
   ]
  },
  {
   "cell_type": "code",
   "execution_count": 3,
   "metadata": {},
   "outputs": [
    {
     "data": {
      "text/plain": [
       "array(1.)"
      ]
     },
     "execution_count": 3,
     "metadata": {},
     "output_type": "execute_result"
    }
   ],
   "source": [
    "data = np.array(1.0)\n",
    "x = Variable(data)\n",
    "x.data"
   ]
  },
  {
   "cell_type": "code",
   "execution_count": 4,
   "metadata": {},
   "outputs": [
    {
     "data": {
      "text/plain": [
       "array(2.)"
      ]
     },
     "execution_count": 4,
     "metadata": {},
     "output_type": "execute_result"
    }
   ],
   "source": [
    "x.data = np.array(2.)\n",
    "x.data"
   ]
  },
  {
   "cell_type": "markdown",
   "metadata": {},
   "source": [
    "### 1.3 【補足】Nunpyの多次元配列\n",
    "- 省略"
   ]
  },
  {
   "cell_type": "markdown",
   "metadata": {},
   "source": [
    "## ステップ２"
   ]
  },
  {
   "cell_type": "markdown",
   "metadata": {},
   "source": [
    "### 2.2 Functionクラスの実装"
   ]
  },
  {
   "cell_type": "code",
   "execution_count": 5,
   "metadata": {},
   "outputs": [],
   "source": [
    "class Function:\n",
    "    def __call__(self, input):\n",
    "        x = input.data # データを取り出す\n",
    "        y = x ** 2 # 実際の計算\n",
    "        output = Variable(y) # Variableとして返す\n",
    "        return output"
   ]
  },
  {
   "cell_type": "code",
   "execution_count": 6,
   "metadata": {},
   "outputs": [],
   "source": [
    "x = Variable(np.array(10))\n",
    "f = Function()\n",
    "y = f(x)"
   ]
  },
  {
   "cell_type": "code",
   "execution_count": 7,
   "metadata": {},
   "outputs": [
    {
     "name": "stdout",
     "output_type": "stream",
     "text": [
      "<class '__main__.Variable'>\n",
      "100\n"
     ]
    }
   ],
   "source": [
    "print(type(y))\n",
    "print(y.data)"
   ]
  },
  {
   "cell_type": "markdown",
   "metadata": {},
   "source": [
    "### 2.3 Functionクラスを使う\n",
    "\n",
    "1. Functionクラスは基底クラスとして、全ての関数に共通する機能を実装する\n",
    "2. 具体的な関数は、Functionクラスを継承したクラスで実装する\n",
    "\n",
    "以上の点を考慮し、Functionクラスを実装"
   ]
  },
  {
   "cell_type": "code",
   "execution_count": 8,
   "metadata": {},
   "outputs": [],
   "source": [
    "class Function:\n",
    "    def __call__(self, input):\n",
    "        x = input.data\n",
    "        y = self.forward(x) # 具体的な計算はforwardメソッドで行う。\n",
    "        output = Variable(y)\n",
    "        return output\n",
    "    \n",
    "    def forward(self, x):\n",
    "        # 例外処理を行い、このクラスを継承すべきであるとアピール\n",
    "        raise NotImplementedError()"
   ]
  },
  {
   "cell_type": "markdown",
   "metadata": {},
   "source": [
    "- Functionクラスを継承して、Squareクラスを実装してみる"
   ]
  },
  {
   "cell_type": "code",
   "execution_count": 9,
   "metadata": {},
   "outputs": [],
   "source": [
    "class Square(Function):\n",
    "    def forward(self, x):\n",
    "        return x ** 2"
   ]
  },
  {
   "cell_type": "code",
   "execution_count": 10,
   "metadata": {},
   "outputs": [
    {
     "name": "stdout",
     "output_type": "stream",
     "text": [
      "<class '__main__.Variable'>\n",
      "100\n"
     ]
    }
   ],
   "source": [
    "x = Variable(np.array(10))\n",
    "f = Square()\n",
    "y = f(x)\n",
    "print(type(y))\n",
    "print(y.data)"
   ]
  },
  {
   "cell_type": "markdown",
   "metadata": {},
   "source": [
    "## ステップ３　関数の連結"
   ]
  },
  {
   "cell_type": "markdown",
   "metadata": {},
   "source": [
    "### 3.1 Exp関数の実装"
   ]
  },
  {
   "cell_type": "markdown",
   "metadata": {},
   "source": [
    "- Functionクラスを継承して、$y=e^x$を実装"
   ]
  },
  {
   "cell_type": "code",
   "execution_count": 11,
   "metadata": {},
   "outputs": [],
   "source": [
    "class Exp(Function):\n",
    "    def forward(self, x):\n",
    "        return np.exp(x)"
   ]
  },
  {
   "cell_type": "markdown",
   "metadata": {},
   "source": [
    "### 3.2関数を連結する\n",
    "- Functionクラスを継承したクラスを連結して、$y=(e^{x^2})^2$を実装\n",
    "<br>\n",
    "- 実装の流れ<br>\n",
    "$x$ &rArr; Square() &rArr; $x^2$ &rArr; Exp() &rArr; $e^{x^2}$ &rArr; Square() &rArr; $(e^{x^2})^2$"
   ]
  },
  {
   "cell_type": "code",
   "execution_count": 12,
   "metadata": {},
   "outputs": [
    {
     "name": "stdout",
     "output_type": "stream",
     "text": [
      "1.648721270700128\n"
     ]
    }
   ],
   "source": [
    "A = Square()\n",
    "B = Exp()\n",
    "C = Square()\n",
    "\n",
    "x = Variable(np.array(0.5))\n",
    "a = A(x) # x^2\n",
    "b = B(a) # e^(x^2)\n",
    "y = C(b) # (e^(x^2))^2\n",
    "print(y.data)"
   ]
  },
  {
   "cell_type": "markdown",
   "metadata": {},
   "source": [
    "## ステップ５　バックプロパゲーションの理論\n",
    "- チェインルール<br>\n",
    "3.2の場合で$\\frac{dy}{dx}$を計算してみる<br>\n",
    "- 微分の公式通りであれば以下のようになる。\n",
    "$$lim_{h \\to 0} \\frac{f(x+h)-f(x)}{h}$$\n",
    "- 公式通りに微分することの問題点\n",
    "1. 誤差が含まれやすい\n",
    "2. 計算コストが大きすぎる。ニューラルネットの場合更新するパラメータが膨大\n",
    "\n",
    "そこでチェインルールによるバックプロパゲーションの出番\n",
    "<br>\n",
    "\n",
    "3.2では順伝播は以下のようになっている<br>\n",
    "$x$ &rArr; *A* &rArr; $x^2$ &rArr; *B* &rArr; $e^{x^2}$ &rArr; *C* &rArr; $(e^{x^2})^2$\n",
    "\n",
    "ここで、\n",
    "$$\\frac{dy}{dx}=((\\frac{dy}{dy}\\frac{dy}{db})\\frac{db}{da}\\frac{da}{dx})$$\n",
    "であることから、順伝播と逆伝播は以下のような関係といえる。<br>\n",
    "$x$ &rArr; *A* &rArr; $a$ &rArr; *B* &rArr; $b$ &rArr; *C* &rArr; $y$<br>\n",
    "<br>\n",
    "$\\frac{dy}{dx}=((\\frac{dy}{dy}\\frac{dy}{db})\\frac{db}{da})\\frac{da}{dx}$ &lArr; $A'(x)$ &lArr; $\\frac{dy}{da}=(\\frac{dy}{dy}\\frac{dy}{db})\\frac{db}{da}$ &lArr; $B'(a)$ &lArr; $\\frac{dy}{db}=\\frac{dy}{dy}\\frac{dy}{db}$ &lArr; $C'(b)$ &lArr; $\\frac{dy}{dy}=1$\n"
   ]
  },
  {
   "cell_type": "markdown",
   "metadata": {},
   "source": [
    "## ステップ６　手作業によるバックプロパゲーション"
   ]
  },
  {
   "cell_type": "markdown",
   "metadata": {},
   "source": [
    "### 6.1 Variableクラスの追加実装\n",
    "- Variableクラスを通常の値(data)に加えて、それに対応する微分した値(grad)を持つよう拡張"
   ]
  },
  {
   "cell_type": "code",
   "execution_count": 13,
   "metadata": {},
   "outputs": [],
   "source": [
    "class Variable:\n",
    "    def __init__(self, data):\n",
    "        self.data = data\n",
    "        self.grad = None"
   ]
  },
  {
   "cell_type": "markdown",
   "metadata": {},
   "source": [
    "### 6.2 Functionクラスの追加実装\n",
    "- Functionクラスに２つの機能を追加\n",
    "1. 微分の計算を行う逆伝播の機能(backwardメソッド)\n",
    "2. forwardメソッドを呼ぶ際に、入力されたVariableインスタンスを保持する機能"
   ]
  },
  {
   "cell_type": "code",
   "execution_count": 14,
   "metadata": {},
   "outputs": [],
   "source": [
    "class Function:\n",
    "    def __call__(self, input):\n",
    "        x = input.data\n",
    "        y = self.forward(x) # 具体的な計算はforwardメソッドで行う。\n",
    "        output = Variable(y)\n",
    "        self.input = input # 入力された変数を覚える\n",
    "        return output\n",
    "    \n",
    "    def forward(self, x):\n",
    "        # 例外処理を行い、このクラスを継承すべきであるとアピール\n",
    "        raise NotImplementedError()\n",
    "    \n",
    "    def backward(self, gy):\n",
    "        raise NotImplementedError()"
   ]
  },
  {
   "cell_type": "markdown",
   "metadata": {},
   "source": [
    "### 6.3 SquareとExpクラスの追加実装"
   ]
  },
  {
   "cell_type": "code",
   "execution_count": 15,
   "metadata": {},
   "outputs": [],
   "source": [
    "class Square(Function):\n",
    "    def forward(self, x):\n",
    "        y = x ** 2\n",
    "        return y\n",
    "    \n",
    "    def backward(self, gy):\n",
    "        x = self.input.data\n",
    "        gx = 2 * x * gy\n",
    "        return gx"
   ]
  },
  {
   "cell_type": "code",
   "execution_count": 16,
   "metadata": {},
   "outputs": [],
   "source": [
    "class Exp(Function):\n",
    "    def forward(self, x):\n",
    "        y = np.exp(x)\n",
    "        return y\n",
    "    \n",
    "    def backward(self, gy):\n",
    "        x = self.input.data\n",
    "        gx = np.exp(x) * gy\n",
    "        return gx"
   ]
  },
  {
   "cell_type": "markdown",
   "metadata": {},
   "source": [
    "### 6.4 バックプロパゲーションの実装"
   ]
  },
  {
   "cell_type": "code",
   "execution_count": 17,
   "metadata": {},
   "outputs": [],
   "source": [
    "# 順伝播の実装\n",
    "A = Square()\n",
    "B = Exp()\n",
    "C = Square()\n",
    "\n",
    "x = Variable(np.array(0.5))\n",
    "a = A(x) # x^2\n",
    "b = B(a) # e^(x^2)\n",
    "y = C(b) # (e^(x^2))^2"
   ]
  },
  {
   "cell_type": "code",
   "execution_count": 18,
   "metadata": {},
   "outputs": [
    {
     "name": "stdout",
     "output_type": "stream",
     "text": [
      "3.297442541400256\n"
     ]
    }
   ],
   "source": [
    "# 逆伝播の実装\n",
    "y.grad = np.array(1.)\n",
    "b.grad = C.backward(y.grad)\n",
    "a.grad = B.backward(b.grad)\n",
    "x.grad = A.backward(a.grad)\n",
    "print(x.grad)"
   ]
  },
  {
   "cell_type": "code",
   "execution_count": 19,
   "metadata": {},
   "outputs": [
    {
     "name": "stdout",
     "output_type": "stream",
     "text": [
      "3.2981021178524195\n"
     ]
    }
   ],
   "source": [
    "# 定義通りの微分\n",
    "def f(x):\n",
    "    A = Square()\n",
    "    B = Exp()\n",
    "    C = Square()\n",
    "    return C(B(A(x)))\n",
    "\n",
    "def numerical_diff(f, x, eps=1e-4):\n",
    "    x1 = Variable(x.data + eps)\n",
    "    y1 = f(x1)\n",
    "    y0 = f(x)\n",
    "    return (y1.data - y0.data) / eps\n",
    "\n",
    "h = np.array(1e-5)\n",
    "x = Variable(np.array(0.5))\n",
    "x_dif = numerical_diff(f, x)\n",
    "print(x_dif)"
   ]
  },
  {
   "cell_type": "markdown",
   "metadata": {},
   "source": [
    "## ステップ７　バックプロパゲーションの自動化"
   ]
  },
  {
   "cell_type": "markdown",
   "metadata": {},
   "source": [
    "### 7.1 逆伝播の自動化のために\n",
    "#### 変数と関数の関係性\n",
    "関数から見ると、変数は「入力」と「出力」として存在する。<br>\n",
    "逆に、変数から見ると、関数は変数にとって<strong>生みの親(creator)</strong>である。<br>\n",
    "\n",
    "そこで、通常の計算が行われるタイミングで、変数と関数のつながりを作る。<br>\n",
    "VariableクラスとFunctionクラスを改良する。\n"
   ]
  },
  {
   "cell_type": "code",
   "execution_count": 20,
   "metadata": {},
   "outputs": [],
   "source": [
    "class Variable:\n",
    "    def __init__(self, data):\n",
    "        self.data = data\n",
    "        self.grad = None\n",
    "        self.creator = None\n",
    "    \n",
    "    def set_creator(self, func):\n",
    "        self.creator = func"
   ]
  },
  {
   "cell_type": "code",
   "execution_count": 24,
   "metadata": {},
   "outputs": [],
   "source": [
    "class Function:\n",
    "    def __call__(self, input):\n",
    "        x = input.data\n",
    "        y = self.forward(x)\n",
    "        output = Variable(y)\n",
    "        output.set_creator(self) # 出力変数に生みの親である関数を覚えさせる\n",
    "        self.input = input\n",
    "        self.output = output # 出力も覚える\n",
    "        return output\n",
    "    \n",
    "    def forward(self, x):\n",
    "    # 例外処理を行い、このクラスを継承すべきであるとアピール\n",
    "        raise NotImplementedError()\n",
    "    \n",
    "    def backward(self, gy):\n",
    "        raise NotImplementedError()"
   ]
  },
  {
   "cell_type": "code",
   "execution_count": 25,
   "metadata": {},
   "outputs": [],
   "source": [
    "# VariableとFunctionで「つながり」が形成できていることを確認してみる\n",
    "class Exp(Function):\n",
    "    def forward(self, x):\n",
    "        y = np.exp(x)\n",
    "        return y\n",
    "    \n",
    "    def backward(self, gy):\n",
    "        x = self.input.data\n",
    "        gx = np.exp(x) * gy\n",
    "        return gx\n",
    "    \n",
    "class Square(Function):\n",
    "    def forward(self, x):\n",
    "        y = x ** 2\n",
    "        return y\n",
    "    \n",
    "    def backward(self, gy):\n",
    "        x = self.input.data\n",
    "        gx = 2 * x * gy\n",
    "        return gx"
   ]
  },
  {
   "cell_type": "code",
   "execution_count": 26,
   "metadata": {},
   "outputs": [],
   "source": [
    "A = Square()\n",
    "B = Exp()\n",
    "C = Square()\n",
    "\n",
    "x = Variable(np.array(0.5))\n",
    "a = A(x)\n",
    "b = B(a)\n",
    "y = C(b)"
   ]
  },
  {
   "cell_type": "code",
   "execution_count": 35,
   "metadata": {},
   "outputs": [
    {
     "name": "stdout",
     "output_type": "stream",
     "text": [
      "True\n",
      "True\n",
      "True\n",
      "True\n",
      "True\n",
      "True\n"
     ]
    }
   ],
   "source": [
    "print(y.creator == C)\n",
    "print(y.creator.input == b)\n",
    "print(y.creator.input.creator == B)\n",
    "print(y.creator.input.creator.input == a)\n",
    "print(y.creator.input.creator.input.creator == A)\n",
    "print(y.creator.input.creator.input.creator.input == x)"
   ]
  },
  {
   "cell_type": "markdown",
   "metadata": {},
   "source": [
    "### 7.2 逆伝播を試す"
   ]
  },
  {
   "cell_type": "code",
   "execution_count": 36,
   "metadata": {},
   "outputs": [],
   "source": [
    "y.grad = np.array(1.)\n",
    "\n",
    "C = y.creator # 1. 関数を取得\n",
    "b = C.input # 2. 関数の入力を取得\n",
    "b.grad = C.backward(y.grad) # 3. 関数のbackwardメソッドを呼ぶ"
   ]
  },
  {
   "cell_type": "code",
   "execution_count": 37,
   "metadata": {},
   "outputs": [],
   "source": [
    "B = b.creator\n",
    "a = B.input\n",
    "a.grad = B.backward(b.grad)"
   ]
  },
  {
   "cell_type": "code",
   "execution_count": 38,
   "metadata": {},
   "outputs": [
    {
     "name": "stdout",
     "output_type": "stream",
     "text": [
      "3.297442541400256\n"
     ]
    }
   ],
   "source": [
    "A = a.creator\n",
    "x = A.input\n",
    "x.grad = A.backward(a.grad)\n",
    "print(x.grad)"
   ]
  },
  {
   "cell_type": "markdown",
   "metadata": {},
   "source": [
    "### 7.3 backwardメソッドの追加\n",
    "上記の逆伝播のコードには、同じ処理フローが繰り返し現れる。<br>\n",
    "そこで、繰り返しの処理を自動化できるよう、Variableクラスを改良。"
   ]
  },
  {
   "cell_type": "code",
   "execution_count": 39,
   "metadata": {},
   "outputs": [],
   "source": [
    "class Variable:\n",
    "    def __init__(self, data):\n",
    "        self.data = data\n",
    "        self.grad = None\n",
    "        self.creator = None\n",
    "    \n",
    "    def set_creator(self, func):\n",
    "        self.creator = func\n",
    "    \n",
    "    def backward(self):\n",
    "        f = self.creator # 1. 関数を取得\n",
    "        if f is not None: # creatorがNoneの場合、逆伝播はストップ\n",
    "            x = f.input # 2. 関数の入力を取得\n",
    "            x.grad = f.backward(self.grad) # 3. 関数のbackwardメソッドを呼ぶ\n",
    "            x.backward() # 4. 自分より１つ前の変数のbackwardを呼ぶ(再帰)"
   ]
  },
  {
   "cell_type": "code",
   "execution_count": 40,
   "metadata": {},
   "outputs": [
    {
     "name": "stdout",
     "output_type": "stream",
     "text": [
      "3.297442541400256\n"
     ]
    }
   ],
   "source": [
    "A = Square()\n",
    "B = Exp()\n",
    "C = Square()\n",
    "\n",
    "x = Variable(np.array(0.5))\n",
    "a = A(x)\n",
    "b = B(a)\n",
    "y = C(b)\n",
    "\n",
    "# backward\n",
    "y.grad = np.array(1.0)\n",
    "y.backward()\n",
    "print(x.grad)"
   ]
  },
  {
   "cell_type": "markdown",
   "metadata": {},
   "source": [
    "## ステップ８　再帰からループへ\n",
    "### 8.2 ループを使った実装\n",
    "先ほどの「再帰を使った実装」を「ループを使った実装」に書き換える"
   ]
  },
  {
   "cell_type": "code",
   "execution_count": 41,
   "metadata": {},
   "outputs": [],
   "source": [
    "class Variable:\n",
    "    def __init__(self, data):\n",
    "        self.data = data\n",
    "        self.grad = None\n",
    "        self.creator = None\n",
    "\n",
    "    def set_creator(self, func):\n",
    "        self.creator = func\n",
    "\n",
    "    def backward(self):\n",
    "        funcs = [self.creator]\n",
    "        while funcs:\n",
    "            f = funcs.pop()  # 1. 関数を取得\n",
    "            x, y = f.input, f.output  # 2. 関数の入出力を取得\n",
    "            x.grad = f.backward(y.grad)  # 3. backwardメソッドを呼ぶ\n",
    "\n",
    "            if x.creator is not None:\n",
    "                funcs.append(x.creator) # 4. １つ前の関数をリストに追加"
   ]
  },
  {
   "cell_type": "markdown",
   "metadata": {},
   "source": [
    "- memo<br>\n",
    "リストのpopメソッドは、リストの末尾が削除され、その要素が取得される。<br>\n",
    "これを使ってループが組める。以下は簡単な例"
   ]
  },
  {
   "cell_type": "code",
   "execution_count": 47,
   "metadata": {},
   "outputs": [
    {
     "name": "stdout",
     "output_type": "stream",
     "text": [
      "f_x: 1, x: []\n"
     ]
    }
   ],
   "source": [
    "x = [1] # self.creatorの結果が１とする\n",
    "f_x = x.pop() # リストの１をf_xへ代入。このときxは空のリストになる。\n",
    "print(f'f_x: {f_x}, x: {x}')\n",
    "x.append(2) # 1つ前の関数(この場合２)をリストへ追加、xは空のリストではなくなるので、whileループに戻る"
   ]
  },
  {
   "cell_type": "markdown",
   "metadata": {},
   "source": [
    "### 8.3 動作確認"
   ]
  },
  {
   "cell_type": "code",
   "execution_count": 48,
   "metadata": {},
   "outputs": [
    {
     "name": "stdout",
     "output_type": "stream",
     "text": [
      "3.297442541400256\n"
     ]
    }
   ],
   "source": [
    "A = Square()\n",
    "B = Exp()\n",
    "C = Square()\n",
    "\n",
    "x = Variable(np.array(0.5))\n",
    "a = A(x)\n",
    "b = B(a)\n",
    "y = C(b)\n",
    "\n",
    "# backward\n",
    "y.grad = np.array(1.0)\n",
    "y.backward()\n",
    "print(x.grad)"
   ]
  },
  {
   "cell_type": "markdown",
   "metadata": {},
   "source": [
    "## ステップ９　関数をより便利に\n",
    "### 9.1 Pythonの関数として利用\n",
    "現在、Squareクラスを使って計算するには、次のようにする必要がある。\n",
    "```\n",
    "x = Variable(np.array(.5))\n",
    "f = Square()\n",
    "y = f(x)\n",
    "```\n",
    "Squareクラスのインスタンスを生成、その後インスタンスを呼び出すという２段階のステップ<br>\n",
    "→これは面倒なので、改良する。"
   ]
  },
  {
   "cell_type": "code",
   "execution_count": 49,
   "metadata": {},
   "outputs": [],
   "source": [
    "def square(x):\n",
    "    return Square()(x)\n",
    "\n",
    "\n",
    "def exp(x):\n",
    "    return Exp()(x)"
   ]
  },
  {
   "cell_type": "code",
   "execution_count": 51,
   "metadata": {},
   "outputs": [
    {
     "data": {
      "text/plain": [
       "3.297442541400256"
      ]
     },
     "execution_count": 51,
     "metadata": {},
     "output_type": "execute_result"
    }
   ],
   "source": [
    "x = Variable(np.array(.5))\n",
    "y = square(exp(square(x))) # 連続して適用\n",
    "\n",
    "y.grad = np.array(1.0)\n",
    "y.backward()\n",
    "x.grad"
   ]
  },
  {
   "cell_type": "markdown",
   "metadata": {},
   "source": [
    "### 9.2 backwardメソッドの簡略化\n",
    "先ほどのコードにある`y.grad = np.array(1.0)`は、毎回逆伝播する際書いている。<br>\n",
    "->省略したいのでVariableクラスを改良"
   ]
  },
  {
   "cell_type": "code",
   "execution_count": 54,
   "metadata": {},
   "outputs": [],
   "source": [
    "class Variable:\n",
    "    def __init__(self, data):\n",
    "        self.data = data\n",
    "        self.grad = None\n",
    "        self.creator = None\n",
    "\n",
    "    def set_creator(self, func):\n",
    "        self.creator = func\n",
    "\n",
    "    def backward(self):\n",
    "        if self.grad is None:\n",
    "            # gradがNoneの場合、自動で微分を生成する\n",
    "            # self.dataと同じ形状、データ型かつその要素が１のインスタンスを作成\n",
    "            self.grad = np.ones_like(self.data)\n",
    "\n",
    "        funcs = [self.creator]\n",
    "        while funcs:\n",
    "            f = funcs.pop()\n",
    "            x, y = f.input, f.output\n",
    "            x.grad = f.backward(y.grad)\n",
    "\n",
    "            if x.creator is not None:\n",
    "                funcs.append(x.creator)"
   ]
  },
  {
   "cell_type": "code",
   "execution_count": 55,
   "metadata": {},
   "outputs": [
    {
     "name": "stdout",
     "output_type": "stream",
     "text": [
      "3.297442541400256\n"
     ]
    }
   ],
   "source": [
    "x = Variable(np.array(0.5))\n",
    "y = square(exp(square(x)))\n",
    "y.backward()\n",
    "print(x.grad)"
   ]
  },
  {
   "cell_type": "markdown",
   "metadata": {},
   "source": [
    "### 9.3 ndarrayだけを扱う\n",
    "Variableにndarrayインスタンス以外のデータを入れた場合、即座にエラーを出すようにする。"
   ]
  },
  {
   "cell_type": "code",
   "execution_count": 60,
   "metadata": {},
   "outputs": [],
   "source": [
    "class Variable:\n",
    "    def __init__(self, data):\n",
    "        if data is not None:\n",
    "            if not isinstance(data, np.ndarray):\n",
    "                raise TypeError(f'{type(data)} is not supported')\n",
    "\n",
    "        self.data = data\n",
    "        self.grad = None\n",
    "        self.creator = None\n",
    "\n",
    "    def set_creator(self, func):\n",
    "        self.creator = func\n",
    "\n",
    "    def backward(self):\n",
    "        if self.grad is None:\n",
    "            self.grad = np.ones_like(self.data)\n",
    "\n",
    "        funcs = [self.creator]\n",
    "        while funcs:\n",
    "            f = funcs.pop()\n",
    "            x, y = f.input, f.output\n",
    "            x.grad = f.backward(y.grad)\n",
    "\n",
    "            if x.creator is not None:\n",
    "                funcs.append(x.creator)"
   ]
  },
  {
   "cell_type": "code",
   "execution_count": 61,
   "metadata": {},
   "outputs": [
    {
     "ename": "TypeError",
     "evalue": "<class 'float'> is not supported",
     "output_type": "error",
     "traceback": [
      "\u001b[0;31m---------------------------------------------------------------------------\u001b[0m",
      "\u001b[0;31mTypeError\u001b[0m                                 Traceback (most recent call last)",
      "\u001b[0;32m/tmp/ipykernel_30488/959722802.py\u001b[0m in \u001b[0;36m<module>\u001b[0;34m\u001b[0m\n\u001b[1;32m      1\u001b[0m \u001b[0mx\u001b[0m \u001b[0;34m=\u001b[0m \u001b[0mVariable\u001b[0m\u001b[0;34m(\u001b[0m\u001b[0mnp\u001b[0m\u001b[0;34m.\u001b[0m\u001b[0marray\u001b[0m\u001b[0;34m(\u001b[0m\u001b[0;36m1.0\u001b[0m\u001b[0;34m)\u001b[0m\u001b[0;34m)\u001b[0m  \u001b[0;31m# OK\u001b[0m\u001b[0;34m\u001b[0m\u001b[0;34m\u001b[0m\u001b[0m\n\u001b[1;32m      2\u001b[0m \u001b[0mx\u001b[0m \u001b[0;34m=\u001b[0m \u001b[0mVariable\u001b[0m\u001b[0;34m(\u001b[0m\u001b[0;32mNone\u001b[0m\u001b[0;34m)\u001b[0m  \u001b[0;31m# OK\u001b[0m\u001b[0;34m\u001b[0m\u001b[0;34m\u001b[0m\u001b[0m\n\u001b[0;32m----> 3\u001b[0;31m \u001b[0mx\u001b[0m \u001b[0;34m=\u001b[0m \u001b[0mVariable\u001b[0m\u001b[0;34m(\u001b[0m\u001b[0;36m1.0\u001b[0m\u001b[0;34m)\u001b[0m  \u001b[0;31m# NG\u001b[0m\u001b[0;34m\u001b[0m\u001b[0;34m\u001b[0m\u001b[0m\n\u001b[0m",
      "\u001b[0;32m/tmp/ipykernel_30488/186781829.py\u001b[0m in \u001b[0;36m__init__\u001b[0;34m(self, data)\u001b[0m\n\u001b[1;32m      3\u001b[0m         \u001b[0;32mif\u001b[0m \u001b[0mdata\u001b[0m \u001b[0;32mis\u001b[0m \u001b[0;32mnot\u001b[0m \u001b[0;32mNone\u001b[0m\u001b[0;34m:\u001b[0m\u001b[0;34m\u001b[0m\u001b[0;34m\u001b[0m\u001b[0m\n\u001b[1;32m      4\u001b[0m             \u001b[0;32mif\u001b[0m \u001b[0;32mnot\u001b[0m \u001b[0misinstance\u001b[0m\u001b[0;34m(\u001b[0m\u001b[0mdata\u001b[0m\u001b[0;34m,\u001b[0m \u001b[0mnp\u001b[0m\u001b[0;34m.\u001b[0m\u001b[0mndarray\u001b[0m\u001b[0;34m)\u001b[0m\u001b[0;34m:\u001b[0m\u001b[0;34m\u001b[0m\u001b[0;34m\u001b[0m\u001b[0m\n\u001b[0;32m----> 5\u001b[0;31m                 \u001b[0;32mraise\u001b[0m \u001b[0mTypeError\u001b[0m\u001b[0;34m(\u001b[0m\u001b[0;34mf'{type(data)} is not supported'\u001b[0m\u001b[0;34m)\u001b[0m\u001b[0;34m\u001b[0m\u001b[0;34m\u001b[0m\u001b[0m\n\u001b[0m\u001b[1;32m      6\u001b[0m \u001b[0;34m\u001b[0m\u001b[0m\n\u001b[1;32m      7\u001b[0m         \u001b[0mself\u001b[0m\u001b[0;34m.\u001b[0m\u001b[0mdata\u001b[0m \u001b[0;34m=\u001b[0m \u001b[0mdata\u001b[0m\u001b[0;34m\u001b[0m\u001b[0;34m\u001b[0m\u001b[0m\n",
      "\u001b[0;31mTypeError\u001b[0m: <class 'float'> is not supported"
     ]
    }
   ],
   "source": [
    "x = Variable(np.array(1.0))  # OK\n",
    "x = Variable(None)  # OK\n",
    "x = Variable(1.0)  # NG"
   ]
  },
  {
   "cell_type": "markdown",
   "metadata": {},
   "source": [
    "- memo<br>\n",
    "このままでは、numpyの仕様によりエラーを吐く可能性あり。<br>\n",
    "以下がその例。"
   ]
  },
  {
   "cell_type": "code",
   "execution_count": 62,
   "metadata": {},
   "outputs": [
    {
     "name": "stdout",
     "output_type": "stream",
     "text": [
      "<class 'numpy.ndarray'> 1\n",
      "<class 'numpy.ndarray'>\n"
     ]
    }
   ],
   "source": [
    "# 期待通りの結果(yのデータ型もndarrayになっている)\n",
    "x = np.array([1.])\n",
    "y = x ** 2\n",
    "print(type(x), x.ndim)\n",
    "print(type(y))"
   ]
  },
  {
   "cell_type": "code",
   "execution_count": 63,
   "metadata": {},
   "outputs": [
    {
     "name": "stdout",
     "output_type": "stream",
     "text": [
      "<class 'numpy.ndarray'> 0\n",
      "<class 'numpy.float64'>\n"
     ]
    }
   ],
   "source": [
    "#想定外の結果(yのデータ型がndarrayになっていない)\n",
    "x = np.array(1.)\n",
    "y = x ** 2\n",
    "print(type(x), x.ndim)\n",
    "print(type(y))"
   ]
  },
  {
   "cell_type": "markdown",
   "metadata": {},
   "source": [
    "- これを解決するために便利関数を作る。<br>\n",
    "np.isscalar関数というnp.float64などのスカラ系の型を判定できるメソッドを使う。"
   ]
  },
  {
   "cell_type": "code",
   "execution_count": 69,
   "metadata": {},
   "outputs": [
    {
     "name": "stdout",
     "output_type": "stream",
     "text": [
      "True\n",
      "True\n",
      "False\n",
      "False\n"
     ]
    }
   ],
   "source": [
    "# np.isscalarでxがndarrayインスタンスか判定できる。\n",
    "print(np.isscalar(np.float64(1.)))\n",
    "print(np.isscalar(2.0))\n",
    "print(np.isscalar(np.array(1.0)))\n",
    "print(np.isscalar(np.array([1., 2., 3])))"
   ]
  },
  {
   "cell_type": "code",
   "execution_count": 70,
   "metadata": {},
   "outputs": [],
   "source": [
    "def as_array(x):\n",
    "    if np.isscalar(x):\n",
    "        return np.array(x)\n",
    "    return x"
   ]
  },
  {
   "cell_type": "code",
   "execution_count": 71,
   "metadata": {},
   "outputs": [],
   "source": [
    "class Function:\n",
    "    def __call__(self, input):\n",
    "        x = input.data\n",
    "        y = self.forward(x)\n",
    "        output = Variable(as_array(y))\n",
    "        output.set_creator(self)\n",
    "        self.input = input\n",
    "        self.output = output\n",
    "        return output\n",
    "\n",
    "    def forward(self, x):\n",
    "        raise NotImplementedError()\n",
    "\n",
    "    def backward(self, gy):\n",
    "        raise NotImplementedError()"
   ]
  },
  {
   "cell_type": "code",
   "execution_count": 72,
   "metadata": {},
   "outputs": [],
   "source": [
    "class Square(Function):\n",
    "    def forward(self, x):\n",
    "        y = x ** 2\n",
    "        return y\n",
    "\n",
    "    def backward(self, gy):\n",
    "        x = self.input.data\n",
    "        gx = 2 * x * gy\n",
    "        return gx\n",
    "\n",
    "\n",
    "class Exp(Function):\n",
    "    def forward(self, x):\n",
    "        y = np.exp(x)\n",
    "        return y\n",
    "\n",
    "    def backward(self, gy):\n",
    "        x = self.input.data\n",
    "        gx = np.exp(x) * gy\n",
    "        return gx\n",
    "\n",
    "\n",
    "def square(x):\n",
    "    return Square()(x)\n",
    "\n",
    "\n",
    "def exp(x):\n",
    "    return Exp()(x)"
   ]
  },
  {
   "cell_type": "code",
   "execution_count": 73,
   "metadata": {},
   "outputs": [
    {
     "name": "stdout",
     "output_type": "stream",
     "text": [
      "3.297442541400256\n"
     ]
    }
   ],
   "source": [
    "x = Variable(np.array(0.5))\n",
    "y = square(exp(square(x)))\n",
    "y.backward()\n",
    "print(x.grad)"
   ]
  },
  {
   "cell_type": "markdown",
   "metadata": {},
   "source": [
    "## ステップ１０　テストを行う"
   ]
  },
  {
   "cell_type": "code",
   "execution_count": null,
   "metadata": {},
   "outputs": [],
   "source": []
  }
 ],
 "metadata": {
  "kernelspec": {
   "display_name": "Python 3.7.10 ('pytorch': conda)",
   "language": "python",
   "name": "python3"
  },
  "language_info": {
   "codemirror_mode": {
    "name": "ipython",
    "version": 3
   },
   "file_extension": ".py",
   "mimetype": "text/x-python",
   "name": "python",
   "nbconvert_exporter": "python",
   "pygments_lexer": "ipython3",
   "version": "3.7.10"
  },
  "orig_nbformat": 4,
  "vscode": {
   "interpreter": {
    "hash": "d62b7059efc6466fc95c4734c71a3d4ec880ec93371e3e4a23230bdabcccc75d"
   }
  }
 },
 "nbformat": 4,
 "nbformat_minor": 2
}
