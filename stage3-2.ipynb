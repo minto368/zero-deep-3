{
 "cells": [
  {
   "cell_type": "markdown",
   "metadata": {},
   "source": [
    "# stage3-1の続き\n",
    "`leopard/__init__.py`の中身を`is_simple_core = False`に設定してください"
   ]
  },
  {
   "cell_type": "markdown",
   "metadata": {},
   "source": [
    "## ステップ30〜32\n",
    "省略\n",
    "\n",
    "## ステップ33 ニュートン法を使った最適化（自動計算）\n",
    "\n",
    "### 33.1 2階微分を求める\n",
    "$y=x^4-2x^2$について実装する。"
   ]
  },
  {
   "cell_type": "code",
   "execution_count": 1,
   "metadata": {},
   "outputs": [],
   "source": [
    "import numpy as np\n",
    "from leopard import Variable"
   ]
  },
  {
   "cell_type": "code",
   "execution_count": 2,
   "metadata": {},
   "outputs": [],
   "source": [
    "def f(x):\n",
    "    y = x ** 4 - 2 * x ** 2\n",
    "    return y"
   ]
  },
  {
   "cell_type": "code",
   "execution_count": 3,
   "metadata": {},
   "outputs": [
    {
     "name": "stdout",
     "output_type": "stream",
     "text": [
      "variable(24.0)\n",
      "variable(68.0)\n"
     ]
    }
   ],
   "source": [
    "x = Variable(np.array(2.0))\n",
    "\n",
    "y = f(x)\n",
    "y.backward(create_graph=True)\n",
    "print(x.grad)\n",
    "\n",
    "gx = x.grad\n",
    "gx.backward()\n",
    "print(x.grad)"
   ]
  },
  {
   "cell_type": "code",
   "execution_count": null,
   "metadata": {},
   "outputs": [],
   "source": []
  }
 ],
 "metadata": {
  "kernelspec": {
   "display_name": "Python 3.7.10 ('torch')",
   "language": "python",
   "name": "python3"
  },
  "language_info": {
   "codemirror_mode": {
    "name": "ipython",
    "version": 3
   },
   "file_extension": ".py",
   "mimetype": "text/x-python",
   "name": "python",
   "nbconvert_exporter": "python",
   "pygments_lexer": "ipython3",
   "version": "3.7.10"
  },
  "orig_nbformat": 4,
  "vscode": {
   "interpreter": {
    "hash": "8bff0657a98b8ee576cbe89028f6a544b770fee234379978e147d89ef60d92ed"
   }
  }
 },
 "nbformat": 4,
 "nbformat_minor": 2
}
