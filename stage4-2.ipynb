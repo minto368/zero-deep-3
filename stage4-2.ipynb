{
 "cells": [
  {
   "cell_type": "markdown",
   "metadata": {},
   "source": [
    "# stage4-1の続き"
   ]
  },
  {
   "cell_type": "markdown",
   "metadata": {},
   "source": [
    "## ステップ44 パラメータをまとめるレイヤ\n",
    "\n",
    "### 44.1 Parameterクラスの実装"
   ]
  },
  {
   "cell_type": "code",
   "execution_count": 1,
   "metadata": {},
   "outputs": [],
   "source": [
    "import numpy as np\n",
    "\n",
    "from leopard import Variable\n",
    "from leopard import Parameter\n",
    "from leopard import Layer\n",
    "\n",
    "import leopard.functions as F"
   ]
  },
  {
   "cell_type": "code",
   "execution_count": 2,
   "metadata": {},
   "outputs": [],
   "source": [
    "x = Variable(np.array(1.0))\n",
    "p = Parameter(np.array(2.0))\n",
    "\n",
    "y = x * p"
   ]
  },
  {
   "cell_type": "code",
   "execution_count": 3,
   "metadata": {},
   "outputs": [
    {
     "name": "stdout",
     "output_type": "stream",
     "text": [
      "<class 'leopard.core.Variable'>\n",
      "<class 'leopard.core.Parameter'>\n",
      "<class 'leopard.core.Variable'>\n"
     ]
    }
   ],
   "source": [
    "print(type(x))\n",
    "print(type(p))\n",
    "print(type(y))"
   ]
  },
  {
   "cell_type": "markdown",
   "metadata": {},
   "source": [
    "### 44.2 Layerクラスの実装"
   ]
  },
  {
   "cell_type": "code",
   "execution_count": 4,
   "metadata": {},
   "outputs": [
    {
     "name": "stdout",
     "output_type": "stream",
     "text": [
      "{'p1', 'p2'}\n"
     ]
    }
   ],
   "source": [
    "layer = Layer()\n",
    "\n",
    "layer.p1 = Parameter(np.array(1))\n",
    "layer.p2 = Parameter(np.array(2))\n",
    "layer.p3 = Variable(np.array(3))\n",
    "layer.p4 = 'test'\n",
    "\n",
    "print(layer._params)"
   ]
  },
  {
   "cell_type": "code",
   "execution_count": 5,
   "metadata": {},
   "outputs": [
    {
     "name": "stdout",
     "output_type": "stream",
     "text": [
      "p1 variable(1)\n",
      "p2 variable(2)\n"
     ]
    }
   ],
   "source": [
    "for name in layer._params:\n",
    "    print(name, layer.__dict__[name])"
   ]
  },
  {
   "cell_type": "markdown",
   "metadata": {},
   "source": [
    "### 44.3 Linearクラスの実装\n",
    "省略\n",
    "\n",
    "### 44.4 Layerを使ったニューラルネットワークの実装"
   ]
  },
  {
   "cell_type": "code",
   "execution_count": 6,
   "metadata": {},
   "outputs": [],
   "source": [
    "import leopard.layers as L"
   ]
  },
  {
   "cell_type": "code",
   "execution_count": 7,
   "metadata": {},
   "outputs": [],
   "source": [
    "# dataset\n",
    "np.random.seed(0)\n",
    "x = np.random.rand(100, 1)\n",
    "y = np.sin(2 * np.pi * x) + np.random.rand(100, 1)"
   ]
  },
  {
   "cell_type": "code",
   "execution_count": 8,
   "metadata": {},
   "outputs": [],
   "source": [
    "l1 = L.Linear(10) # 出力サイズを指定\n",
    "l2 = L.Linear(1)"
   ]
  },
  {
   "cell_type": "code",
   "execution_count": 9,
   "metadata": {},
   "outputs": [],
   "source": [
    "def predict(x):\n",
    "    y = l1(x)\n",
    "    y = F.sigmoid(y)\n",
    "    y = l2(y)\n",
    "    return y"
   ]
  },
  {
   "cell_type": "code",
   "execution_count": 10,
   "metadata": {},
   "outputs": [
    {
     "name": "stdout",
     "output_type": "stream",
     "text": [
      "variable(0.8165178492839196)\n",
      "variable(0.24990280802148895)\n",
      "variable(0.24609876581126014)\n",
      "variable(0.2372159081431807)\n",
      "variable(0.20793216413350174)\n",
      "variable(0.12311905720649353)\n",
      "variable(0.07888166506355149)\n",
      "variable(0.07655073683421637)\n",
      "variable(0.0763780308623822)\n",
      "variable(0.07618764131185572)\n"
     ]
    }
   ],
   "source": [
    "lr = 0.2\n",
    "iters = 10000\n",
    "\n",
    "for i in range(iters):\n",
    "    y_pred = predict(x)\n",
    "    loss = F.mean_squared_error(y, y_pred)\n",
    "\n",
    "    l1.cleargrads()\n",
    "    l2.cleargrads()\n",
    "    loss.backward()\n",
    "\n",
    "    for l in [l1, l2]:\n",
    "        for p in l.params():\n",
    "            p.data -= lr * p.grad.data\n",
    "    if i % 1000 == 0:\n",
    "        print(loss)"
   ]
  },
  {
   "cell_type": "markdown",
   "metadata": {},
   "source": [
    "## ステップ45 レイヤをまとめるレイヤ\n",
    "Layerクラスに**入れ子**の構造を追加する。つまり、Layerクラスが**別のLayer**を保持できるようにする。"
   ]
  },
  {
   "cell_type": "code",
   "execution_count": 11,
   "metadata": {},
   "outputs": [],
   "source": [
    "from leopard import Layer"
   ]
  },
  {
   "cell_type": "code",
   "execution_count": 12,
   "metadata": {},
   "outputs": [],
   "source": [
    "model = Layer()\n",
    "\n",
    "model.l1 = L.Linear(5) # 出力サイズだけを指定\n",
    "model.l2 = L.Linear(3)"
   ]
  },
  {
   "cell_type": "code",
   "execution_count": 13,
   "metadata": {},
   "outputs": [],
   "source": [
    "# 推論を行う関数\n",
    "def predict(model, x):\n",
    "    y = model.l1(x)\n",
    "    y = F.sigmoid(y)\n",
    "    y = model.l2(y)\n",
    "    return y"
   ]
  },
  {
   "cell_type": "code",
   "execution_count": 14,
   "metadata": {},
   "outputs": [
    {
     "name": "stdout",
     "output_type": "stream",
     "text": [
      "variable([0. 0. 0.])\n",
      "variable(None)\n",
      "variable([0. 0. 0. 0. 0.])\n",
      "variable(None)\n"
     ]
    }
   ],
   "source": [
    "for p in model.params(): # 全てのパラメータにアクセス\n",
    "    print(p)"
   ]
  },
  {
   "cell_type": "code",
   "execution_count": 15,
   "metadata": {},
   "outputs": [],
   "source": [
    "model.cleargrads()"
   ]
  },
  {
   "cell_type": "markdown",
   "metadata": {},
   "source": [
    "### 45.2 Modelクラス"
   ]
  },
  {
   "cell_type": "code",
   "execution_count": 16,
   "metadata": {},
   "outputs": [],
   "source": [
    "from leopard.models import Model"
   ]
  },
  {
   "cell_type": "code",
   "execution_count": 17,
   "metadata": {},
   "outputs": [],
   "source": [
    "# Model definition\n",
    "class TwoLayerNet(Model):\n",
    "    def __init__(self, hidden_size, out_size):\n",
    "        super().__init__()\n",
    "        self.l1 = L.Linear(hidden_size)\n",
    "        self.l2 = L.Linear(out_size)\n",
    "\n",
    "    def forward(self, x):\n",
    "        y = F.sigmoid(self.l1(x))\n",
    "        y = self.l2(y)\n",
    "        return y"
   ]
  },
  {
   "cell_type": "markdown",
   "metadata": {},
   "source": [
    "### 45.3 Modelを使って問題を解く"
   ]
  },
  {
   "cell_type": "code",
   "execution_count": 18,
   "metadata": {},
   "outputs": [],
   "source": [
    "np.random.seed(0)\n",
    "x = np.random.rand(100, 1)\n",
    "y = np.sin(2 * np.pi * x) + np.random.rand(100, 1)"
   ]
  },
  {
   "cell_type": "code",
   "execution_count": 19,
   "metadata": {},
   "outputs": [],
   "source": [
    "# Hyperparameters\n",
    "lr = 0.2\n",
    "max_iter = 10000\n",
    "hidden_size = 10"
   ]
  },
  {
   "cell_type": "code",
   "execution_count": 20,
   "metadata": {},
   "outputs": [],
   "source": [
    "model = TwoLayerNet(hidden_size, 1)"
   ]
  },
  {
   "cell_type": "code",
   "execution_count": 21,
   "metadata": {},
   "outputs": [
    {
     "name": "stdout",
     "output_type": "stream",
     "text": [
      "variable(0.8165178492839196)\n",
      "variable(0.24990280802148895)\n",
      "variable(0.24609876581126014)\n",
      "variable(0.2372159081431807)\n",
      "variable(0.20793216413350174)\n",
      "variable(0.12311905720649353)\n",
      "variable(0.07888166506355149)\n",
      "variable(0.07655073683421637)\n",
      "variable(0.0763780308623822)\n",
      "variable(0.07618764131185572)\n"
     ]
    }
   ],
   "source": [
    "for i in range(max_iter):\n",
    "    y_pred = model(x)\n",
    "    loss = F.mean_squared_error(y, y_pred)\n",
    "\n",
    "    model.cleargrads()\n",
    "    loss.backward()\n",
    "\n",
    "    for p in model.params():\n",
    "        p.data -= lr * p.grad.data\n",
    "    if i % 1000 == 0:\n",
    "        print(loss)"
   ]
  },
  {
   "cell_type": "markdown",
   "metadata": {},
   "source": [
    "### 45.4 MLP(Multi-Layer-Perceptron)クラス\n",
    "今後のことを見据えて、**N層**のネットワークを作るクラスを実装する。"
   ]
  },
  {
   "cell_type": "code",
   "execution_count": 22,
   "metadata": {},
   "outputs": [],
   "source": [
    "from leopard.models import MLP"
   ]
  },
  {
   "cell_type": "code",
   "execution_count": 23,
   "metadata": {},
   "outputs": [],
   "source": [
    "model = MLP((10, 1)) # 2層"
   ]
  },
  {
   "cell_type": "code",
   "execution_count": 24,
   "metadata": {},
   "outputs": [
    {
     "name": "stdout",
     "output_type": "stream",
     "text": [
      "b variable([0. 0. 0. 0. 0. 0. 0. 0. 0. 0.])\n",
      "W variable(None)\n",
      "b variable([0.])\n",
      "W variable(None)\n"
     ]
    }
   ],
   "source": [
    "for p in model.params():\n",
    "    print(p.name, p)"
   ]
  },
  {
   "cell_type": "code",
   "execution_count": 25,
   "metadata": {},
   "outputs": [],
   "source": [
    "model = MLP((10, 20, 30, 40, 1)) # 5層"
   ]
  },
  {
   "cell_type": "code",
   "execution_count": 26,
   "metadata": {},
   "outputs": [
    {
     "name": "stdout",
     "output_type": "stream",
     "text": [
      "b variable([0.])\n",
      "W variable(None)\n",
      "b variable([0. 0. 0. 0. 0. 0. 0. 0. 0. 0. 0. 0. 0. 0. 0. 0. 0. 0. 0. 0. 0. 0. 0. 0.\n",
      "          0. 0. 0. 0. 0. 0.])\n",
      "W variable(None)\n",
      "b variable([0. 0. 0. 0. 0. 0. 0. 0. 0. 0. 0. 0. 0. 0. 0. 0. 0. 0. 0. 0.])\n",
      "W variable(None)\n",
      "b variable([0. 0. 0. 0. 0. 0. 0. 0. 0. 0. 0. 0. 0. 0. 0. 0. 0. 0. 0. 0. 0. 0. 0. 0.\n",
      "          0. 0. 0. 0. 0. 0. 0. 0. 0. 0. 0. 0. 0. 0. 0. 0.])\n",
      "W variable(None)\n",
      "b variable([0. 0. 0. 0. 0. 0. 0. 0. 0. 0.])\n",
      "W variable(None)\n"
     ]
    }
   ],
   "source": [
    "for p in model.params():\n",
    "    print(p.name, p)"
   ]
  },
  {
   "cell_type": "markdown",
   "metadata": {},
   "source": [
    "## ステップ46　Optimizerによるパラメータ更新\n",
    "\n",
    "### 46.1　Optimizerクラス\n",
    "省略\n",
    "\n",
    "### 46.2　SGDクラスの実装\n",
    "省略\n",
    "\n",
    "### 46.3　SGDクラスを使って問題を解く"
   ]
  },
  {
   "cell_type": "code",
   "execution_count": 27,
   "metadata": {},
   "outputs": [],
   "source": [
    "from leopard import optimizers"
   ]
  },
  {
   "cell_type": "code",
   "execution_count": 28,
   "metadata": {},
   "outputs": [],
   "source": [
    "lr = 0.2\n",
    "max_iter = 10000\n",
    "hidden_size = 10"
   ]
  },
  {
   "cell_type": "code",
   "execution_count": 29,
   "metadata": {},
   "outputs": [],
   "source": [
    "model = MLP((hidden_size, 1))\n",
    "optimizer = optimizers.SGD(lr).setup(model)"
   ]
  },
  {
   "cell_type": "code",
   "execution_count": 30,
   "metadata": {},
   "outputs": [
    {
     "name": "stdout",
     "output_type": "stream",
     "text": [
      "variable(1.1827762997377618)\n",
      "variable(0.24721518059487607)\n",
      "variable(0.2404155854412563)\n",
      "variable(0.22093915204680056)\n",
      "variable(0.14778105835316568)\n",
      "variable(0.08156167479972622)\n",
      "variable(0.07643859324328743)\n",
      "variable(0.07616811473964549)\n",
      "variable(0.07599896851444594)\n",
      "variable(0.07584688031253686)\n"
     ]
    }
   ],
   "source": [
    "for i in range(max_iter):\n",
    "    y_pred = model(x)\n",
    "    loss = F.mean_squared_error(y, y_pred)\n",
    "\n",
    "    model.cleargrads()\n",
    "    loss.backward()\n",
    "\n",
    "    optimizer.update() # パラメータの更新を一気に行える。\n",
    "    if i % 1000 == 0:\n",
    "        print(loss)"
   ]
  },
  {
   "cell_type": "markdown",
   "metadata": {},
   "source": [
    "### 46.4 SGD以外の最適化手法\n",
    "Momentumの実装をしてみる。Momentumは以下の式で表される。\n",
    "\n",
    "$$\n",
    "\n",
    "\\begin{aligned}\n",
    "\n",
    "\\boldsymbol v_{t+1} & \\leftarrow \\alpha \\boldsymbol v_t - \\eta \\frac{\\partial L}{\\partial \\boldsymbol W} \\\\\n",
    "\n",
    "\\boldsymbol W_{t+1} & \\leftarrow \\boldsymbol W_t + \\boldsymbol v_{t+1}\n",
    "\n",
    "\\end{aligned}\n",
    "\n",
    "$$\n",
    "\n",
    "通常、$\\alpha=0.9, \\ \\eta = 0.01$を初期値とすることが多い。"
   ]
  },
  {
   "cell_type": "markdown",
   "metadata": {},
   "source": [
    "## ステップ47 ソフトマックス関数と交差エントロピー誤差"
   ]
  },
  {
   "cell_type": "markdown",
   "metadata": {},
   "source": [
    "### 47.1 スライス操作のための関数\n",
    "スライスした場合の逆伝播は、スライスした場所にのみ勾配を加算すれば良い。"
   ]
  },
  {
   "cell_type": "code",
   "execution_count": 31,
   "metadata": {},
   "outputs": [
    {
     "name": "stdout",
     "output_type": "stream",
     "text": [
      "variable([4 5 6])\n"
     ]
    }
   ],
   "source": [
    "x = Variable(np.array([[1, 2, 3], [4, 5, 6]]))\n",
    "y = F.get_item(x, 1)\n",
    "print(y)"
   ]
  },
  {
   "cell_type": "code",
   "execution_count": 32,
   "metadata": {},
   "outputs": [
    {
     "name": "stdout",
     "output_type": "stream",
     "text": [
      "variable([[0 0 0]\n",
      "          [1 1 1]])\n"
     ]
    }
   ],
   "source": [
    "y.backward()\n",
    "print(x.grad)"
   ]
  },
  {
   "cell_type": "code",
   "execution_count": 33,
   "metadata": {},
   "outputs": [
    {
     "name": "stdout",
     "output_type": "stream",
     "text": [
      "variable([[1 2 3]\n",
      "          [1 2 3]\n",
      "          [4 5 6]])\n"
     ]
    }
   ],
   "source": [
    "indices = np.array([0, 0, 1])\n",
    "y = F.get_item(x, indices)\n",
    "print(y)"
   ]
  },
  {
   "cell_type": "code",
   "execution_count": 34,
   "metadata": {},
   "outputs": [
    {
     "name": "stdout",
     "output_type": "stream",
     "text": [
      "variable([4 5 6])\n",
      "variable([[0 0 0]\n",
      "          [1 1 1]])\n",
      "variable([[1 2]\n",
      "          [4 5]])\n",
      "variable([[1 1 0]\n",
      "          [1 1 0]])\n"
     ]
    }
   ],
   "source": [
    "x.cleargrad()\n",
    "\n",
    "y = x[1]\n",
    "y.backward()\n",
    "print(y)\n",
    "print(x.grad)\n",
    "\n",
    "x.cleargrad()\n",
    "\n",
    "y = x[:, :2]\n",
    "y.backward()\n",
    "print(y)\n",
    "print(x.grad)\n"
   ]
  },
  {
   "cell_type": "markdown",
   "metadata": {},
   "source": [
    "### 47.2 ソフトマックス関数\n",
    "モデルの出力を**確率**に変換するとき、以下のソフトマックス関数を用いられる。\n",
    "\n",
    "$$\n",
    "\n",
    "\\begin{aligned}\n",
    "\n",
    "p_k &= \\frac{\\exp(y_k)}{\\sum_{i=1}^{n} \\exp(y_i)} \\\\\n",
    "\n",
    "\\\\\n",
    "\n",
    "\\frac{\\partial p_i}{\\partial y_j} &= \\left \\{\n",
    "\n",
    "\\begin{array}{ll}\n",
    "\n",
    "p_i (1 - p_j) & (i = j) \\\\\n",
    "\n",
    "-p_i p_j & (i \\neq j)\n",
    "\n",
    "\\end{array}\n",
    "\n",
    "\\right.\n",
    "\n",
    "\\end{aligned}\n",
    "\n",
    "$$\n",
    "\n",
    "これにより、$0 \\leq p_i \\leq 1, \\ \\  p_1 + p_2 + \\cdots + p_n = 1$となり、$(p_1, \\ p_2, \\ \\cdots , \\ p_n)$は確率として解釈できる。"
   ]
  },
  {
   "cell_type": "code",
   "execution_count": 35,
   "metadata": {},
   "outputs": [
    {
     "name": "stdout",
     "output_type": "stream",
     "text": [
      "variable([[-0.93787012 -0.03804002  0.02768597]])\n"
     ]
    }
   ],
   "source": [
    "model = MLP((10, 3))\n",
    "\n",
    "x = np.array([[0.2, -0.4]])\n",
    "y = model(x)\n",
    "print(y)"
   ]
  },
  {
   "cell_type": "code",
   "execution_count": 36,
   "metadata": {},
   "outputs": [],
   "source": [
    "from leopard import as_variable\n",
    "\n",
    "def softmax1d(x):\n",
    "    x = as_variable(x)\n",
    "    y = F.exp(x)\n",
    "    sum_y = F.sum(y)\n",
    "    return y / sum_y"
   ]
  },
  {
   "cell_type": "code",
   "execution_count": 37,
   "metadata": {},
   "outputs": [
    {
     "name": "stdout",
     "output_type": "stream",
     "text": [
      "variable([[-0.93787012 -0.03804002  0.02768597]])\n",
      "variable([[0.16432685 0.40411016 0.431563  ]])\n",
      "variable(1.0)\n"
     ]
    }
   ],
   "source": [
    "p = softmax1d(y)\n",
    "print(y)\n",
    "print(p)\n",
    "print(F.sum(p))"
   ]
  },
  {
   "cell_type": "markdown",
   "metadata": {},
   "source": [
    "- 補足①\n",
    "\n",
    "ソフトマックス関数は指数関数の計算を行うので、その値が容易に大きくもしくは小さくなり得る。よって、オーバーフロー対策を行うのが一般的である。この時、変換するベクトルの要素の最大値を引くことでオーバーフロー対策を行える。\n",
    "\n",
    "$$\n",
    "\n",
    "p_k = \\frac{\\exp \\Bigl( y_k - \\max(\\boldsymbol y) \\Bigr)}{\\sum_{i=1}^{n} \\exp \\Bigl( y_k - \\max(\\boldsymbol y)) \\Bigr)}\n",
    "\n",
    "$$"
   ]
  },
  {
   "cell_type": "markdown",
   "metadata": {},
   "source": [
    "```Py\n",
    "# 値が大きい\n",
    "x = np.array([[1000, 1010, 880]])\n",
    "p_x = softmax1d(x)\n",
    "print(p_x)\n",
    "```\n",
    "\n",
    "variable([[nan nan nan]])"
   ]
  },
  {
   "cell_type": "code",
   "execution_count": 39,
   "metadata": {},
   "outputs": [
    {
     "name": "stdout",
     "output_type": "stream",
     "text": [
      "variable([[4.53978687e-05 9.99954602e-01 3.48094881e-57]])\n"
     ]
    }
   ],
   "source": [
    "# オーバーフロー対策\n",
    "x = x - x.max(axis=1)\n",
    "p_x_ = softmax1d(x)\n",
    "print(p_x_)"
   ]
  },
  {
   "cell_type": "markdown",
   "metadata": {},
   "source": [
    "### 47.3 交差エントロピー誤差\n",
    "多値分類を行う際、モデルの出力値は確率となる。従って、モデルの確率分布と、教師信号の確率分布がどれだけ似ているかを表す交差エントロピーを使う。\n",
    "\n",
    "$$\n",
    "\n",
    "\\begin{aligned}\n",
    "\n",
    "L &= - \\sum_{k} t_k \\log p_k \\\\\n",
    "\n",
    "\\frac{\\partial L}{\\partial \\boldsymbol p} &= \n",
    "\n",
    "(- \\frac{t_1}{p_1} \\quad - \\frac{t_2}{p_2} \\quad \\cdots \\quad - \\frac{t_n}{p_n})\n",
    "\n",
    "\\end{aligned}\n",
    "\n",
    "$$\n",
    "\n",
    "例えば、$\\boldsymbol t = (0, 0, 1), \\ \\boldsymbol p = (p_0, p_1, p_2)$の場合、\n",
    "\n",
    "$$ \n",
    "\n",
    "L = - \\log \\boldsymbol p [t]\n",
    "\n",
    "$$\n",
    "\n",
    "ここで、$\\boldsymbol p [t]$は、ベクトル$\\boldsymbol p$から$t$番目の要素を抜き出すことを意味する。"
   ]
  },
  {
   "cell_type": "markdown",
   "metadata": {},
   "source": [
    "また、一般的に、$\\boldsymbol p$は、ソフトマックス関数を通るので、ソフトマックス関数と交差エントロピーの合成関数について考えてみる。さらに、バッチ処理を考慮し、バッチごとの平均を取るとする。バッチサイズを$N$とすると、\n",
    "\n",
    "$$\n",
    "\n",
    "\\begin{aligned}\n",
    "\n",
    "L &= - \\frac{1}{N} \\sum_{n=1}^{N} \\sum_{k=1}^{K} t_{nk} log \\Biggl( \\frac{\\exp(y_{nk})}{\\sum_{i=1}^{m} \\exp(y_ni)} \\Biggr) \\\\\n",
    "\n",
    "\\\\\n",
    "\n",
    "\\frac{\\partial L}{\\partial \\boldsymbol y_{nk}} &= \\frac{\\partial L}{\\partial p_n} \\frac{\\partial p_n}{\\partial y_{nk}} \\\\\n",
    "\n",
    "\\Leftrightarrow &= \\biggl(- \\frac{1}{N} \\frac{t_{n1}}{p_{n1}} \\quad \\cdots \\quad - \\frac{1}{N}\\frac{t_{nk}}{p_{nk}} \\quad \\cdots \\quad - \\frac{1}{N}\\frac{t_{nK}}{p_{nK}} \\biggr)\n",
    "\n",
    "\\begin{pmatrix}\n",
    "\n",
    "- p_{n1} p_{nk} \\\\\n",
    "\n",
    "\\vdots \\\\\n",
    "\n",
    "- p_{nk} (1 - p_{nk}) \\\\\n",
    "\n",
    "\\vdots \\\\\n",
    "\n",
    "- p_{nK} p_{nk}\n",
    "\n",
    "\\end{pmatrix}\n",
    "\n",
    "\\\\\n",
    "\n",
    "\\Leftrightarrow &= \\frac{1}{N} (p_{nk} - t_{nk})\n",
    "\n",
    "\\end{aligned}\n",
    "\n",
    "$$"
   ]
  },
  {
   "cell_type": "code",
   "execution_count": 40,
   "metadata": {},
   "outputs": [],
   "source": [
    "x = np.array([[0.2, -0.4], [0.3, 0.5], [1.3, -3.2], [2.1, 0.3]])\n",
    "t = np.array([2, 0, 1, 0])"
   ]
  },
  {
   "cell_type": "code",
   "execution_count": 41,
   "metadata": {},
   "outputs": [
    {
     "name": "stdout",
     "output_type": "stream",
     "text": [
      "variable([[-0.93787012 -0.03804002  0.02768597]\n",
      "          [-0.95582361  0.04111775  0.0598178 ]\n",
      "          [-1.06499792 -0.05136239  0.15584895]\n",
      "          [-1.20215596  0.1657937   0.41317402]])\n",
      "variable([[0.16432685 0.40411016 0.431563  ]\n",
      "          [0.1545329  0.4187811  0.42668601]\n",
      "          [0.13994512 0.38563289 0.47442199]\n",
      "          [0.1004335  0.39443148 0.50513502]])\n",
      "variable(1.48970474715864)\n"
     ]
    }
   ],
   "source": [
    "y = model(x)\n",
    "p = F.softmax_simple(y)\n",
    "print(y)\n",
    "print(p)\n",
    "\n",
    "loss = F.softmax_cross_entropy_simple(y, t)\n",
    "loss.backward()\n",
    "print(loss)"
   ]
  },
  {
   "cell_type": "markdown",
   "metadata": {},
   "source": [
    "## ステップ48 多値分類\n",
    "### 48.1 スパイラル・データセット"
   ]
  },
  {
   "cell_type": "code",
   "execution_count": 42,
   "metadata": {},
   "outputs": [],
   "source": [
    "import leopard\n",
    "\n",
    "x, t = leopard.datasets.get_spiral(train=True)"
   ]
  },
  {
   "cell_type": "code",
   "execution_count": 43,
   "metadata": {},
   "outputs": [
    {
     "name": "stdout",
     "output_type": "stream",
     "text": [
      "(300, 2) (300,)\n"
     ]
    }
   ],
   "source": [
    "print(x.shape, t.shape)"
   ]
  },
  {
   "cell_type": "code",
   "execution_count": 63,
   "metadata": {},
   "outputs": [
    {
     "data": {
      "image/png": "[encoded data removed]",
      "text/plain": [
       "<Figure size 576x576 with 1 Axes>"
      ]
     },
     "metadata": {
      "needs_background": "light"
     },
     "output_type": "display_data"
    }
   ],
   "source": [
    "import matplotlib.pyplot as plt\n",
    "\n",
    "# 各クラスのマーカーを指定\n",
    "markers = ['o', 'x', '^']\n",
    "\n",
    "# 作図\n",
    "plt.figure(figsize=(8, 8))\n",
    "for i in range(3):\n",
    "    plt.scatter(x[t == i, 0], x[t == i, 1], marker=markers[i], \n",
    "                s=50, label='class ' + str(i)) # データセット\n",
    "plt.xlabel('$x_0$', fontsize=15) # x軸ラベル\n",
    "plt.ylabel('$x_1$', fontsize=15) # y軸ラベル\n",
    "plt.suptitle('Spiral Dataset', fontsize=20) # 図全体のタイトル\n",
    "plt.title('N=' + str(len(x)), loc='left') # タイトル\n",
    "plt.tick_params(axis='both', labelsize=15)\n",
    "plt.legend(fontsize=14) # 凡例\n",
    "plt.show()"
   ]
  },
  {
   "cell_type": "markdown",
   "metadata": {},
   "source": [
    "### 48.2 学習用のコード"
   ]
  },
  {
   "cell_type": "code",
   "execution_count": 52,
   "metadata": {},
   "outputs": [],
   "source": [
    "# ハイパーパラメータの設定\n",
    "max_epoch = 300\n",
    "batch_size = 30\n",
    "hidden_size = 10\n",
    "lr = 1.0"
   ]
  },
  {
   "cell_type": "code",
   "execution_count": 53,
   "metadata": {},
   "outputs": [],
   "source": [
    "# データの読み込み/モデル・オプティマイザの生成\n",
    "x, t = leopard.datasets.get_spiral(train=True)\n",
    "model = MLP((hidden_size, 3))\n",
    "optimizer = optimizers.SGD(lr).setup(model)"
   ]
  },
  {
   "cell_type": "code",
   "execution_count": 54,
   "metadata": {},
   "outputs": [],
   "source": [
    "import math\n",
    "\n",
    "data_size = len(x)\n",
    "max_iter = math.ceil(data_size / batch_size) # 小数点の切り上げ"
   ]
  },
  {
   "cell_type": "code",
   "execution_count": 55,
   "metadata": {},
   "outputs": [
    {
     "name": "stdout",
     "output_type": "stream",
     "text": [
      "epoch 1, loss 1.13\n",
      "epoch 31, loss 0.71\n",
      "epoch 61, loss 0.64\n",
      "epoch 91, loss 0.46\n",
      "epoch 121, loss 0.36\n",
      "epoch 151, loss 0.25\n",
      "epoch 181, loss 0.20\n",
      "epoch 211, loss 0.17\n",
      "epoch 241, loss 0.15\n",
      "epoch 271, loss 0.14\n"
     ]
    }
   ],
   "source": [
    "train_loss = []\n",
    "\n",
    "for epoch in range(max_epoch):\n",
    "    # データセットのインデックスのシャッフル\n",
    "    index = np.random.permutation(data_size)\n",
    "    sum_loss = 0\n",
    "\n",
    "    for i in range(max_iter):\n",
    "        batch_index = index[i * batch_size:(i + 1) * batch_size]\n",
    "        batch_x = x[batch_index]\n",
    "        batch_t = t[batch_index]\n",
    "\n",
    "        # 勾配の算出/パラメータの更新\n",
    "        y = model(batch_x)\n",
    "        loss = F.softmax_cross_entropy(y, batch_t)\n",
    "        model.cleargrads()\n",
    "        loss.backward()\n",
    "        optimizer.update()\n",
    "\n",
    "        sum_loss += float(loss.data) * len(batch_t)\n",
    "\n",
    "    # エポックごとに学習経過を出力\n",
    "    avg_loss = sum_loss / data_size\n",
    "    train_loss.append(avg_loss)\n",
    "    \n",
    "    if epoch % 30 == 0:\n",
    "        print('epoch %d, loss %.2f' % (epoch + 1, avg_loss))"
   ]
  },
  {
   "cell_type": "code",
   "execution_count": 65,
   "metadata": {},
   "outputs": [
    {
     "data": {
      "image/png": "[encoded data removed]",
      "text/plain": [
       "<Figure size 576x432 with 1 Axes>"
      ]
     },
     "metadata": {
      "needs_background": "light"
     },
     "output_type": "display_data"
    }
   ],
   "source": [
    "# 作図\n",
    "plt.figure(figsize=(8, 6))\n",
    "plt.plot(np.arange(len(train_loss)), train_loss, label='train') # 損失\n",
    "plt.xlabel('iterations (epoch)', fontsize=12) # x軸ラベル\n",
    "plt.ylabel('loss', fontsize=12) # y軸ラベル\n",
    "plt.title('Cross Entropy Loss', fontsize=20) # タイトル\n",
    "plt.grid() # グリッド線\n",
    "plt.tick_params(axis='both', labelsize='14')\n",
    "plt.show()"
   ]
  },
  {
   "cell_type": "code",
   "execution_count": 57,
   "metadata": {},
   "outputs": [],
   "source": [
    "# Plot boundary area the model predict\n",
    "h = 0.001\n",
    "x_min, x_max = x[:, 0].min() - .1, x[:, 0].max() + .1\n",
    "y_min, y_max = x[:, 1].min() - .1, x[:, 1].max() + .1\n",
    "xx, yy = np.meshgrid(np.arange(x_min, x_max, h), np.arange(y_min, y_max, h))\n",
    "X = np.c_[xx.ravel(), yy.ravel()]"
   ]
  },
  {
   "cell_type": "code",
   "execution_count": 71,
   "metadata": {},
   "outputs": [
    {
     "data": {
      "image/png": "[encoded data removed]",
      "text/plain": [
       "<Figure size 576x576 with 1 Axes>"
      ]
     },
     "metadata": {
      "needs_background": "light"
     },
     "output_type": "display_data"
    }
   ],
   "source": [
    "with leopard.no_grad():\n",
    "    score = model(X)\n",
    "predict_cls = np.argmax(score.data, axis=1)\n",
    "Z = predict_cls.reshape(xx.shape)\n",
    "plt.figure(figsize=(8, 8))\n",
    "plt.contourf(xx, yy, Z)\n",
    "\n",
    "# Plot data points of the dataset\n",
    "N, CLS_NUM = 100, 3\n",
    "markers = ['o', 'x', '^']\n",
    "colors = ['orange', 'blue', 'green']\n",
    "labels = ['class 0', 'class 1', 'class 2']\n",
    "for i in range(len(x)):\n",
    "    c = t[i]\n",
    "    plt.scatter(x[i][0], x[i][1], s=40,  marker=markers[c], c=colors[c])\n",
    "\n",
    "plt.tick_params(axis='both', labelsize=13)\n",
    "plt.title('iter:' + str(max_epoch) + \n",
    "          ', loss=' + str(np.round(loss.data, 5)) + \n",
    "          ', N=' + str(len(x)), loc='left') # タイトル\n",
    "\n",
    "plt.xlabel('$x_0$', fontsize=15) # x軸ラベル\n",
    "plt.ylabel('$x_1$', fontsize=15) # y軸ラベル\n",
    "plt.show()"
   ]
  },
  {
   "cell_type": "code",
   "execution_count": null,
   "metadata": {},
   "outputs": [],
   "source": []
  }
 ],
 "metadata": {
  "kernelspec": {
   "display_name": "Python 3.7.10 ('pytorch': conda)",
   "language": "python",
   "name": "python3"
  },
  "language_info": {
   "codemirror_mode": {
    "name": "ipython",
    "version": 3
   },
   "file_extension": ".py",
   "mimetype": "text/x-python",
   "name": "python",
   "nbconvert_exporter": "python",
   "pygments_lexer": "ipython3",
   "version": "3.7.10"
  },
  "orig_nbformat": 4,
  "vscode": {
   "interpreter": {
    "hash": "d62b7059efc6466fc95c4734c71a3d4ec880ec93371e3e4a23230bdabcccc75d"
   }
  }
 },
 "nbformat": 4,
 "nbformat_minor": 2
}
