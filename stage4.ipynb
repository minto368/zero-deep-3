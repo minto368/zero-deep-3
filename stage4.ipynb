{
 "cells": [
  {
   "cell_type": "markdown",
   "metadata": {},
   "source": [
    "# 第４ステージ　ニューラルネットワークを作る"
   ]
  },
  {
   "cell_type": "markdown",
   "metadata": {},
   "source": [
    "## ステップ37 テンソルを扱う\n",
    "\n",
    "### 37.1 要素ごとの計算"
   ]
  },
  {
   "cell_type": "code",
   "execution_count": 1,
   "metadata": {},
   "outputs": [],
   "source": [
    "import numpy as np\n",
    "import matplotlib.pyplot as plt\n",
    "\n",
    "import leopard.functions as F\n",
    "from leopard import Variable"
   ]
  },
  {
   "cell_type": "code",
   "execution_count": 2,
   "metadata": {},
   "outputs": [
    {
     "name": "stdout",
     "output_type": "stream",
     "text": [
      "variable(0.8414709848078965)\n"
     ]
    }
   ],
   "source": [
    "# 入力と出力が全てスカラ\n",
    "x = Variable(np.array(1.0))\n",
    "y = F.sin(x)\n",
    "print(y)"
   ]
  },
  {
   "cell_type": "code",
   "execution_count": 3,
   "metadata": {},
   "outputs": [
    {
     "name": "stdout",
     "output_type": "stream",
     "text": [
      "variable([[ 0.84147098  0.90929743  0.14112001]\n",
      "          [-0.7568025  -0.95892427 -0.2794155 ]])\n"
     ]
    }
   ],
   "source": [
    "# 入力がテンソル -> 入力の各要素に適用\n",
    "x = Variable(np.array([[1, 2, 3], [4, 5, 6]]))\n",
    "y = F.sin(x)\n",
    "print(y)"
   ]
  },
  {
   "cell_type": "code",
   "execution_count": 4,
   "metadata": {},
   "outputs": [
    {
     "name": "stdout",
     "output_type": "stream",
     "text": [
      "variable([[11 22 33]\n",
      "          [44 55 66]])\n"
     ]
    }
   ],
   "source": [
    "x = Variable(np.array([[1, 2, 3], [4, 5, 6]]))\n",
    "c = Variable(np.array([[10, 20, 30], [40, 50, 60]]))\n",
    "y = x + c\n",
    "print(y)"
   ]
  },
  {
   "cell_type": "markdown",
   "metadata": {},
   "source": [
    "### 37.2 テンソルを使用したときのバックプロパゲーション\n",
    "これまで「スカラ」を対象に微分を求めたが、「テンソル」でも正しく動作する。"
   ]
  },
  {
   "cell_type": "code",
   "execution_count": 5,
   "metadata": {},
   "outputs": [
    {
     "name": "stdout",
     "output_type": "stream",
     "text": [
      "variable([[1 1 1]\n",
      "          [1 1 1]])\n",
      "variable([[1 1 1]\n",
      "          [1 1 1]])\n",
      "variable([[1 1 1]\n",
      "          [1 1 1]])\n"
     ]
    }
   ],
   "source": [
    "x = Variable(np.array([[1, 2, 3], [4, 5, 6]]))\n",
    "c = Variable(np.array([[10, 20, 30], [40, 50, 60]]))\n",
    "y = x + c\n",
    "\n",
    "y.backward(retain_grad=True) # retain_grad=Trueで微分を保持する\n",
    "print(y.grad)\n",
    "print(x.grad)\n",
    "print(c.grad)"
   ]
  },
  {
   "cell_type": "markdown",
   "metadata": {},
   "source": [
    "### 37.3 【補足】テンソルを使用したときのバックプロパゲーション\n",
    "\n",
    "$\n",
    "\\boldsymbol y = (y_1, \\ y_2, \\ \\cdots, \\ y_n), \\ \\boldsymbol x = (x_1, \\ x_2, \\ \\cdots, \\ x_n)\n",
    "$\n",
    "としたとき、$\\boldsymbol y = F(\\boldsymbol x)$の微分を見てみる。<br>\n",
    "\n",
    "$$\n",
    "\\frac{\\partial \\boldsymbol y}{\\partial \\boldsymbol x} =\n",
    "\\begin{pmatrix}\n",
    "\n",
    "\\frac{\\partial y_1}{\\partial x_1} & \\frac{\\partial y_1}{\\partial x_1} & \\cdots & \\frac{\\partial y_1}{\\partial x_n} \\\\\n",
    "\n",
    "\\frac{\\partial y_2}{\\partial x_1} & \\frac{\\partial y_2}{\\partial x_1} & \\cdots & \\frac{\\partial y_2}{\\partial x_n} \\\\\n",
    "\n",
    "\\vdots & \\vdots & \\ddots & \\vdots \\\\\n",
    "\n",
    "\\frac{\\partial y_n}{\\partial x_1} & \\frac{\\partial y_n}{\\partial x_1} & \\cdots & \\frac{\\partial y_n}{\\partial x_n}\n",
    "\n",
    "\\end{pmatrix}\n",
    "$$\n",
    "\n",
    "$\\boldsymbol y , \\ \\boldsymbol x$がどちらもベクトルであることから、**ヤコビ行列**になる。<br>\n",
    "ちなみに、もし$\\boldsymbol y$がベクトルではなくスカラであれば、微分は次のようになる。\n",
    "$$\n",
    "\\frac{\\partial y}{\\partial \\boldsymbol x} = (\\frac{\\partial y}{\\partial x_1} \\quad \\frac{\\partial y}{\\partial x_2} \\quad \\cdots \\quad \\frac{\\partial y}{\\partial x_n})\n",
    "$$\n",
    "これは、$1 \\times n$のヤコビ行列、もしくは行ベクトルと見なせる。\n",
    "\n",
    "次に、合成関数について考える。$y=F(\\boldsymbol x)$という合成関数について、$\\boldsymbol a = A(\\boldsymbol x), \\ \\boldsymbol b = B(\\boldsymbol a), \\ y = C(\\boldsymbol b)$で構成されている場合を考える。<br>\n",
    "\n",
    "$\\boldsymbol x, \\ \\boldsymbol a, \\ \\boldsymbol b$はベクトルで、その要素数は$n$とする。また、$y$はスカラであるとする。すると、$\\boldsymbol x$に関する微分は、\n",
    "$$\\frac{\\partial y}{\\partial \\boldsymbol x} = \\frac{\\partial y}{\\partial \\boldsymbol b}\n",
    "\\frac{\\partial \\boldsymbol b}{\\partial \\boldsymbol a} \\frac{\\partial \\boldsymbol a}{\\partial \\boldsymbol x}\n",
    "$$\n",
    "となる。ここで、$\\frac{\\partial y}{\\partial \\boldsymbol b}$は行ベクトル、$\\frac{\\partial \\boldsymbol b}{\\partial \\boldsymbol a}, \\ \\frac{\\partial \\boldsymbol a}{\\partial \\boldsymbol x}$は$n \\times n$行列である。<br>\n",
    "\n",
    "また、$\\boldsymbol a = A(\\boldsymbol x), \\ \\boldsymbol b = B(\\boldsymbol a)$がどちらも要素ごとの演算を行った場合を仮定する。例えば、$\\boldsymbol a = A(\\boldsymbol x) = \\sin(\\boldsymbol x)$の時、\n",
    "\n",
    "$$\n",
    "\n",
    "\\begin{aligned}\n",
    "\\boldsymbol a &= \n",
    "\n",
    "(a_1 \\quad a_2 \\quad \\cdots \\quad a_n)\n",
    "\n",
    "=\n",
    "\n",
    "\\biggl( \\sin(x_1) \\quad \\sin(x_2) \\quad \\cdots \\quad \\sin(x_n) \\biggr)\n",
    "\n",
    " \\\\\n",
    "\n",
    "\\\\\n",
    "\n",
    "\\therefore \\frac{\\partial \\boldsymbol a}{\\partial \\boldsymbol x} &= \n",
    "\n",
    "\\begin{pmatrix}\n",
    "\n",
    "\\frac{\\partial a_1}{\\partial x_1} & 0 & \\cdots & 0 \\\\\n",
    "\n",
    "0 & \\frac{\\partial a_2}{\\partial x_2} & \\cdots & 0 \\\\\n",
    "\n",
    "\\vdots & \\vdots & \\ddots & \\vdots \\\\\n",
    "\n",
    "0 & 0 & \\cdots & \\frac{\\partial a_n}{\\partial x_n} \n",
    "\n",
    "\\end{pmatrix}\n",
    "\n",
    "\\end{aligned}\n",
    "\n",
    "$$\n",
    "\n",
    "$\\boldsymbol b$についても同様であるため、\n",
    "\n",
    "$$\\begin{aligned}\n",
    "\\biggl( (\\frac{\\partial y}{\\partial \\boldsymbol b} \\frac{\\partial \\boldsymbol b}{\\partial \\boldsymbol a}) \\frac{\\partial \\boldsymbol a}{\\partial \\boldsymbol x} \\biggr) &= \n",
    "(\\frac{\\partial y}{\\partial b_1} \\quad \\frac{\\partial y}{\\partial b_2} \\quad \\cdots \\quad \\frac{\\partial y}{\\partial b_n})\n",
    "\n",
    "\\begin{pmatrix}\n",
    "\\frac{\\partial b_1}{\\partial a_1} & 0 & \\cdots & 0 \\\\\n",
    "\n",
    "0 & \\frac{\\partial b_2}{\\partial a_2} & \\cdots & 0 \\\\\n",
    "\n",
    "\\vdots & \\vdots & \\ddots & \\vdots \\\\\n",
    "\n",
    "0 & 0 & \\cdots & \\frac{\\partial b_n}{\\partial a_n} \n",
    "\n",
    "\\end{pmatrix}\n",
    "\n",
    "\\begin{pmatrix}\n",
    "\\frac{\\partial a_1}{\\partial x_1} & 0 & \\cdots & 0 \\\\\n",
    "\n",
    "0 & \\frac{\\partial a_2}{\\partial x_2} & \\cdots & 0 \\\\\n",
    "\n",
    "\\vdots & \\vdots & \\ddots & \\vdots \\\\\n",
    "\n",
    "0 & 0 & \\cdots & \\frac{\\partial a_n}{\\partial x_n} \n",
    "\n",
    "\\end{pmatrix}\n",
    "\\\\\n",
    "\\\\\n",
    "\\Leftrightarrow &=\n",
    "(\\frac{\\partial y}{\\partial b_1}\\frac{\\partial b_1}{\\partial a_1} \\quad \\frac{\\partial y}{\\partial b_2}\\frac{\\partial b_2}{\\partial a_2} \\quad \\cdots \\quad \\frac{\\partial y}{\\partial b_n}\\frac{\\partial b_n}{\\partial a_n})\n",
    "\n",
    "\\begin{pmatrix}\n",
    "\\frac{\\partial a_1}{\\partial x_1} & 0 & \\cdots & 0 \\\\\n",
    "\n",
    "0 & \\frac{\\partial a_2}{\\partial x_2} & \\cdots & 0 \\\\\n",
    "\n",
    "\\vdots & \\vdots & \\ddots & \\vdots \\\\\n",
    "\n",
    "0 & 0 & \\cdots & \\frac{\\partial a_n}{\\partial x_n} \n",
    "\n",
    "\\end{pmatrix}\n",
    "\\\\\n",
    "\\\\\n",
    "\\Leftrightarrow &=\n",
    "(\\frac{\\partial y}{\\partial b_1}\\frac{\\partial b_1}{\\partial a_1}\\frac{\\partial a_1}{\\partial x_1} \\quad \\frac{\\partial y}{\\partial b_2}\\frac{\\partial b_2}{\\partial a_2}\\frac{\\partial a_2}{\\partial x_2} \\quad \\cdots \\quad \\frac{\\partial y}{\\partial b_n}\\frac{\\partial b_n}{\\partial a_n}\\frac{\\partial a_n}{\\partial x_n})\n",
    "\n",
    "\\end{aligned}$$\n",
    "となり、要素ごとの演算の場合は、逆伝播も微分を要素ごとに掛け算することで求められる。"
   ]
  },
  {
   "cell_type": "markdown",
   "metadata": {},
   "source": [
    "- memo <br>\n",
    "各要素に対して演算する場合について、バックプロパゲーションと公式適用とでおおよそ一致することを確かめてみた。"
   ]
  },
  {
   "cell_type": "code",
   "execution_count": 6,
   "metadata": {},
   "outputs": [],
   "source": [
    "def f(x):\n",
    "    return (F.exp(x ** 2)) ** 2"
   ]
  },
  {
   "cell_type": "code",
   "execution_count": 7,
   "metadata": {},
   "outputs": [
    {
     "name": "stdout",
     "output_type": "stream",
     "text": [
      "variable([3.29744254e+00 2.38476639e+04 7.87919630e+08])\n"
     ]
    }
   ],
   "source": [
    "# back propagation\n",
    "x = Variable(np.array([0.5, 2, 3]))\n",
    "y = f(x)\n",
    "y.backward()\n",
    "print(x.grad)"
   ]
  },
  {
   "cell_type": "code",
   "execution_count": 8,
   "metadata": {},
   "outputs": [],
   "source": [
    "def diff(f, x, eps=1e-4):\n",
    "    x0 = Variable(x.data - eps)\n",
    "    x1 = Variable(x.data + eps)\n",
    "    y0 = f(x0)\n",
    "    y1 = f(x1)\n",
    "    return (y1.data - y0.data) / (2 * eps)"
   ]
  },
  {
   "cell_type": "code",
   "execution_count": 9,
   "metadata": {},
   "outputs": [
    {
     "name": "stdout",
     "output_type": "stream",
     "text": [
      "[3.29744263e+00 2.38476669e+04 7.87919835e+08]\n"
     ]
    }
   ],
   "source": [
    "# 公式適用\n",
    "x = Variable(np.array([0.5, 2, 3]))\n",
    "y_diff = diff(f, x)\n",
    "print(y_diff)"
   ]
  },
  {
   "cell_type": "markdown",
   "metadata": {},
   "source": [
    "## ステップ38　形状を変える関数\n",
    "\n",
    "### 38.1　reshape関数の実装\n",
    "例えば、変数の形状を(2, 3)から(6,)へと変換する場合の逆伝播は、(6,)から(2, 3)へと変換する。\n",
    "\n",
    "順伝播：\n",
    "\n",
    "$$\n",
    "\n",
    "x =\n",
    "\n",
    "\\begin{pmatrix}\n",
    "\n",
    "1 & 2 & 3 \\\\\n",
    "4 & 5 & 6\n",
    "\n",
    "\\end{pmatrix}\n",
    "\n",
    "\\Rightarrow \\rm{reshape}(x, \\ (6,)) \\Rightarrow (1 \\quad 2 \\quad 3 \\quad 4 \\quad 5 \\quad 6) \\Rightarrow y\n",
    "$$\n",
    "\n",
    "逆伝播：\n",
    "\n",
    "$$\n",
    "\n",
    "gx =\n",
    "\n",
    "\\begin{pmatrix}\n",
    "\n",
    "a & b & c \\\\\n",
    "d & e & f\n",
    "\n",
    "\\end{pmatrix}\n",
    "\n",
    "\\Leftarrow \\rm{reshape}(x, \\ (2, \\ 3)) \\Leftarrow (a \\quad b \\quad c \\quad d \\quad e \\quad f) \\Leftarrow gy\n",
    "$$"
   ]
  },
  {
   "cell_type": "code",
   "execution_count": 10,
   "metadata": {},
   "outputs": [
    {
     "name": "stdout",
     "output_type": "stream",
     "text": [
      "variable([[1 1 1]\n",
      "          [1 1 1]]) (2, 3) (6,)\n"
     ]
    }
   ],
   "source": [
    "x = Variable(np.array([[1, 2, 3], [4, 5, 6]]))\n",
    "y = F.reshape(x, (6,))\n",
    "y.backward(retain_grad=True)\n",
    "print(x.grad, x.grad.shape, y.shape)"
   ]
  },
  {
   "cell_type": "markdown",
   "metadata": {},
   "source": [
    "### 38.2　Variableからreshapeを使う\n",
    "現状のreshape関数をNumpyのそれに近づける。"
   ]
  },
  {
   "cell_type": "code",
   "execution_count": 11,
   "metadata": {},
   "outputs": [],
   "source": [
    "x = np.random.rand(1, 2, 3)\n",
    "\n",
    "y = x.reshape((2, 3)) # tuple\n",
    "y = x.reshape([2, 3]) # list\n",
    "y = x.reshape(2, 3) # そのまま"
   ]
  },
  {
   "cell_type": "code",
   "execution_count": 12,
   "metadata": {},
   "outputs": [],
   "source": [
    "x = Variable(np.random.randn(1, 2, 3))\n",
    "y = x.reshape((2, 3))\n",
    "y = x.reshape(2, 3)"
   ]
  },
  {
   "cell_type": "markdown",
   "metadata": {},
   "source": [
    "### 38.3　行列の転置\n",
    "順伝播で(3, 2)を(2, 3)にしたら、逆伝播では、(2, 3)を(3, 2)にする。\n",
    "つまり、reshapeと同様に順伝播の逆をすると良い。"
   ]
  },
  {
   "cell_type": "code",
   "execution_count": 13,
   "metadata": {},
   "outputs": [
    {
     "name": "stdout",
     "output_type": "stream",
     "text": [
      "variable([[1 1 1]\n",
      "          [1 1 1]])\n"
     ]
    }
   ],
   "source": [
    "x = Variable(np.array([[1, 2, 3], [4, 5, 6]]))\n",
    "y = F.transpose(x)  # y = x.T\n",
    "y.backward()\n",
    "print(x.grad)"
   ]
  },
  {
   "cell_type": "code",
   "execution_count": 14,
   "metadata": {},
   "outputs": [
    {
     "name": "stdout",
     "output_type": "stream",
     "text": [
      "variable([[0.1026333  0.20965021]\n",
      "          [0.49293977 0.84680014]\n",
      "          [0.13885838 0.13283539]])\n",
      "variable([[0.1026333  0.20965021]\n",
      "          [0.49293977 0.84680014]\n",
      "          [0.13885838 0.13283539]])\n"
     ]
    }
   ],
   "source": [
    "x = Variable(np.random.rand(2, 3))\n",
    "y = x.transpose()\n",
    "print(y)\n",
    "y = x.T\n",
    "print(y)"
   ]
  },
  {
   "cell_type": "markdown",
   "metadata": {},
   "source": [
    "### 38.4 【補足】実際のtranspose関数"
   ]
  },
  {
   "cell_type": "code",
   "execution_count": 15,
   "metadata": {},
   "outputs": [
    {
     "name": "stdout",
     "output_type": "stream",
     "text": [
      "(1, 2, 3, 4)\n",
      "(1, 2, 3, 4)\n"
     ]
    }
   ],
   "source": [
    "A, B, C, D = 1, 2, 3, 4\n",
    "\n",
    "x = Variable(np.random.rand(A, B, C, D))\n",
    "print(x.shape)\n",
    "\n",
    "y = x.transpose(1, 0, 3, 2)\n",
    "y.backward()\n",
    "print(x.grad.shape)"
   ]
  },
  {
   "cell_type": "markdown",
   "metadata": {},
   "source": [
    "- memo<br>\n",
    "    以下、`leopard/functions.py`のTranspose関数から抜粋\n",
    "    ```Py\n",
    "    class Transpose(Function):\n",
    "        ...\n",
    "\n",
    "        def backward(self, gy):\n",
    "            if self.axes is None:\n",
    "                return transpose(gy)\n",
    "\n",
    "            axes_len = len(self.axes)\n",
    "            inv_axes = tuple(np.argsort([ax % axes_len for ax in self.axes]))\n",
    "            return transpose(gy, inv_axes)\n",
    "    ```\n",
    "    `inv_axes`の部分で、入力と同じになるように並び替えた次元のタプルが生成されている。<br>\n",
    "    以下、並び替えの実験"
   ]
  },
  {
   "cell_type": "code",
   "execution_count": 16,
   "metadata": {},
   "outputs": [
    {
     "name": "stdout",
     "output_type": "stream",
     "text": [
      "(3, 0, 1, 2)\n"
     ]
    }
   ],
   "source": [
    "A, B, C, D = 1, 2, 3, 4\n",
    "axes = (D-1, A-1, B-1, C-1)\n",
    "print(axes)"
   ]
  },
  {
   "cell_type": "markdown",
   "metadata": {},
   "source": [
    "- `np.argsort`は、引数を小さい順に並び替えた際の、元の引数のindexを返す。<br>\n",
    "    上記の例で言うと、<br>\n",
    "    `(index[0]: 3, index[1]: 0, index[2]: 1, index[3]: 2)`<br>\n",
    "    ` -> (index[1]: 0, index[2]: 1, index[3]: 2, index[0]: 3)`"
   ]
  },
  {
   "cell_type": "code",
   "execution_count": 17,
   "metadata": {},
   "outputs": [
    {
     "name": "stdout",
     "output_type": "stream",
     "text": [
      "(1, 2, 3, 0)\n"
     ]
    }
   ],
   "source": [
    "inv_axes = tuple(np.argsort(axes))\n",
    "print(inv_axes)"
   ]
  },
  {
   "cell_type": "code",
   "execution_count": 18,
   "metadata": {},
   "outputs": [
    {
     "data": {
      "text/plain": [
       "[0, 1, 2, 3]"
      ]
     },
     "execution_count": 18,
     "metadata": {},
     "output_type": "execute_result"
    }
   ],
   "source": [
    "# 昇順に戻っている\n",
    "[axes[i] for i in inv_axes]"
   ]
  },
  {
   "cell_type": "markdown",
   "metadata": {},
   "source": [
    "## ステップ39 和を求める関数\n",
    "\n",
    "### 39.1 sum関数の逆伝播\n",
    "\n",
    "順伝播：\n",
    "\n",
    "$$\n",
    "\n",
    "x = (1 \\quad 2 \\quad 3 \\quad 4 \\quad 5 \\quad 6)\n",
    "\\Rightarrow \\rm{sum}(x) \\Rightarrow 21 \\Rightarrow y\n",
    "$$\n",
    "\n",
    "逆伝播：\n",
    "\n",
    "$$\n",
    "\n",
    "gx = (a \\quad a \\quad a \\quad a \\quad a \\quad a)\n",
    "\\Leftarrow \\rm{broadcast\\_to}(x, \\ (6, )) \\Leftarrow a \\Leftarrow gy\n",
    "$$\n",
    "\n",
    "\n",
    "### 39.2 sum関数の実装"
   ]
  },
  {
   "cell_type": "code",
   "execution_count": 19,
   "metadata": {},
   "outputs": [
    {
     "name": "stdout",
     "output_type": "stream",
     "text": [
      "variable(21)\n",
      "variable([1 1 1 1 1 1])\n"
     ]
    }
   ],
   "source": [
    "x = Variable(np.array([1, 2, 3, 4, 5, 6]))\n",
    "y = F.sum(x)\n",
    "y.backward()\n",
    "print(y)\n",
    "print(x.grad)"
   ]
  },
  {
   "cell_type": "code",
   "execution_count": 20,
   "metadata": {},
   "outputs": [
    {
     "name": "stdout",
     "output_type": "stream",
     "text": [
      "variable(21)\n",
      "variable([[1 1 1]\n",
      "          [1 1 1]])\n"
     ]
    }
   ],
   "source": [
    "# 2次元配列（行列）の場合\n",
    "x = Variable(np.array([[1, 2, 3], [4, 5, 6]]))\n",
    "y = F.sum(x)\n",
    "y.backward()\n",
    "print(y)\n",
    "print(x.grad)"
   ]
  },
  {
   "cell_type": "markdown",
   "metadata": {},
   "source": [
    "### 39.3　axisとkeepdims\n",
    "Numpyの`np.sum`関数には、<strong>軸</strong>を指定する`axis`という引数と、入力と出力の次元数を保つかどうかを指定する`keepdims`がある。これを使えるよう修正する。"
   ]
  },
  {
   "cell_type": "code",
   "execution_count": 21,
   "metadata": {},
   "outputs": [
    {
     "name": "stdout",
     "output_type": "stream",
     "text": [
      "[5 7 9]\n",
      "(3,)\n",
      "[ 6 15]\n",
      "(2,)\n"
     ]
    }
   ],
   "source": [
    "x = np.array([[1, 2, 3], [4, 5, 6]])\n",
    "y = np.sum(x, axis=0)\n",
    "print(y)\n",
    "print(y.shape)\n",
    "y = np.sum(x, axis=1)\n",
    "print(y)\n",
    "print(y.shape)"
   ]
  },
  {
   "cell_type": "code",
   "execution_count": 22,
   "metadata": {},
   "outputs": [
    {
     "name": "stdout",
     "output_type": "stream",
     "text": [
      "(1, 1)\n",
      "21\n"
     ]
    }
   ],
   "source": [
    "y = np.sum(x, keepdims=True)\n",
    "print(y.shape)\n",
    "\n",
    "y = np.sum(x, keepdims=False)\n",
    "print(y)"
   ]
  },
  {
   "cell_type": "code",
   "execution_count": 23,
   "metadata": {},
   "outputs": [
    {
     "name": "stdout",
     "output_type": "stream",
     "text": [
      "variable([5 7 9])\n",
      "variable([[1 1 1]\n",
      "          [1 1 1]])\n",
      "(1, 1, 1, 1)\n"
     ]
    }
   ],
   "source": [
    "x = Variable(np.array([[1, 2, 3], [4, 5, 6]]))\n",
    "y = F.sum(x, axis=0)\n",
    "y.backward()\n",
    "print(y)\n",
    "print(x.grad)\n",
    "\n",
    "x = Variable(np.random.randn(2, 3, 4, 5))\n",
    "y = x.sum(keepdims=True)\n",
    "print(y.shape)"
   ]
  },
  {
   "cell_type": "markdown",
   "metadata": {},
   "source": [
    "## ステップ40 ブロードキャストを行う関数\n",
    "\n",
    "### 40.1　broadcast_to関数とsum_to関数\n",
    "\n",
    "1. broadcast_to関数 <br>\n",
    "\n",
    "順伝播：\n",
    "\n",
    "$$\n",
    "x = (1 \\quad 2 \\quad 3)\n",
    "\\Rightarrow \\rm{broadcast\\_to}(x, \\ (2, \\ 3)) \\Rightarrow\n",
    "\n",
    "\\begin{pmatrix}\n",
    "\n",
    "1 & 2 & 3 \\\\\n",
    "1 & 2 & 3\n",
    "\n",
    "\\end{pmatrix}\n",
    "\n",
    "\\Rightarrow y\n",
    "$$\n",
    "\n",
    "逆伝播：\n",
    "\n",
    "$$\n",
    "\n",
    "gx =\n",
    "\n",
    "(2 \\quad 2 \\quad 2)\n",
    "\n",
    "\\Leftarrow \\rm{sum\\_to}(x, \\ (3,)) \\Leftarrow\n",
    "\n",
    "\\begin{pmatrix}\n",
    "\n",
    "1 & 1 & 1 \\\\\n",
    "1 & 1 & 1\n",
    "\n",
    "\\end{pmatrix}\n",
    "\n",
    "\\Leftarrow gy\n",
    "\n",
    "$$\n",
    "\n",
    "<br>\n",
    "\n",
    "2. sum_to関数 <br>\n",
    "   \n",
    "順伝播：\n",
    "\n",
    "$$\n",
    "x =\n",
    "\n",
    "\\begin{pmatrix}\n",
    "\n",
    "1 & 2 & 3 \\\\\n",
    "4 & 5 & 6\n",
    "\n",
    "\\end{pmatrix}\n",
    "\n",
    "\\Rightarrow \\rm{sum\\_to}(x, \\ (3,)) \\Rightarrow\n",
    "\n",
    "(5 \\quad 6 \\quad 7)\n",
    "\n",
    "\\Rightarrow y\n",
    "$$\n",
    "\n",
    "逆伝播：\n",
    "\n",
    "$$\n",
    "\n",
    "gx =\n",
    "\n",
    "\\begin{pmatrix}\n",
    "\n",
    "1 & 1 & 1 \\\\\n",
    "1 & 1 & 1\n",
    "\n",
    "\\end{pmatrix}\n",
    "\n",
    "\\Leftarrow \\rm{broadcast\\_to}(x, \\ (2, \\ 3)) \\Leftarrow\n",
    "\n",
    "(1 \\quad 1 \\quad 1)\n",
    "\n",
    "\\Leftarrow gy\n",
    "\n",
    "$$"
   ]
  },
  {
   "cell_type": "code",
   "execution_count": 24,
   "metadata": {},
   "outputs": [
    {
     "name": "stdout",
     "output_type": "stream",
     "text": [
      "[[1 2 3]\n",
      " [1 2 3]]\n"
     ]
    }
   ],
   "source": [
    "x = np.array([1, 2, 3])\n",
    "y = np.broadcast_to(x, (2, 3))\n",
    "print(y)"
   ]
  },
  {
   "cell_type": "markdown",
   "metadata": {},
   "source": [
    "broadcast_to関数の逆伝播は、入力xの形状になるように勾配の和を求めれば良い。<br>\n",
    "sum_to関数は、xの要素の和を求めてshapeの形状にする。"
   ]
  },
  {
   "cell_type": "code",
   "execution_count": 25,
   "metadata": {},
   "outputs": [],
   "source": [
    "from leopard.utils import sum_to"
   ]
  },
  {
   "cell_type": "code",
   "execution_count": 26,
   "metadata": {},
   "outputs": [
    {
     "name": "stdout",
     "output_type": "stream",
     "text": [
      "[[5 7 9]] (1, 3)\n",
      "[[ 6]\n",
      " [15]] (2, 1)\n"
     ]
    }
   ],
   "source": [
    "x = np.array([[1, 2, 3], [4, 5, 6]])\n",
    "y = sum_to(x, (1, 3))\n",
    "print(y, y.shape)\n",
    "\n",
    "y = sum_to(x, (2, 1))\n",
    "print(y, y.shape)"
   ]
  },
  {
   "cell_type": "markdown",
   "metadata": {},
   "source": [
    "### 40.2 DeZeroのbroadcast_toとsum_to関数\n",
    "sum_to関数の逆伝播は、broadcast_to関数を使って、入力の形状になるように勾配の要素を複製すると良い\n",
    "\n",
    "### 40.3 ブロードキャストへの対応\n",
    "現状では、順伝播のみ対応しているため、逆伝播にも対応する。"
   ]
  },
  {
   "cell_type": "code",
   "execution_count": 27,
   "metadata": {},
   "outputs": [
    {
     "name": "stdout",
     "output_type": "stream",
     "text": [
      "[11 12 13]\n"
     ]
    }
   ],
   "source": [
    "x0 = np.array([1, 2, 3])\n",
    "x1 = np.array([10])\n",
    "\n",
    "y = x0 + x1\n",
    "print(y)"
   ]
  },
  {
   "cell_type": "code",
   "execution_count": 28,
   "metadata": {},
   "outputs": [
    {
     "name": "stdout",
     "output_type": "stream",
     "text": [
      "variable([11 12 13])\n"
     ]
    }
   ],
   "source": [
    "x0 = Variable(np.array([1, 2, 3]))\n",
    "x1 = Variable(np.array([10]))\n",
    "\n",
    "y = x0 + x1\n",
    "print(y)"
   ]
  },
  {
   "cell_type": "code",
   "execution_count": 29,
   "metadata": {},
   "outputs": [
    {
     "name": "stdout",
     "output_type": "stream",
     "text": [
      "variable([11 12 13])\n",
      "variable([1 1 1]) variable([3])\n"
     ]
    }
   ],
   "source": [
    "x0 = Variable(np.array([1, 2, 3]))\n",
    "x1 = Variable(np.array([10]))\n",
    "y = x0 + x1\n",
    "print(y)\n",
    "\n",
    "y.backward()\n",
    "print(x0.grad, x1.grad)"
   ]
  },
  {
   "cell_type": "markdown",
   "metadata": {},
   "source": [
    "## ステップ41 行列の積\n",
    "### 41.1 ベクトルの内積と行列の積"
   ]
  },
  {
   "cell_type": "code",
   "execution_count": 30,
   "metadata": {},
   "outputs": [
    {
     "name": "stdout",
     "output_type": "stream",
     "text": [
      "32\n",
      "[[19 22]\n",
      " [43 50]]\n"
     ]
    }
   ],
   "source": [
    "# ベクトルの内積\n",
    "a = np.array([1, 2, 3])\n",
    "b = np.array([4, 5, 6])\n",
    "c = np.dot(a, b)\n",
    "print(c)\n",
    "\n",
    "# 行列の積\n",
    "a = np.array([[1, 2], [3, 4]])\n",
    "b = np.array([[5, 6], [7, 8]])\n",
    "c = np.dot(a, b)\n",
    "print(c)"
   ]
  },
  {
   "cell_type": "markdown",
   "metadata": {},
   "source": [
    "### 41.2 行列の形状チェック\n",
    "\n",
    "$\\boldsymbol x$は$(a \\times b)$の行列、$W$は$(b \\times c)$の行列、$\\boldsymbol y$は$(a \\times c)$の行列、$L$をスカラーとして、以下の状況を考える。\n",
    "\n",
    "$$\n",
    "\n",
    "\\begin{aligned}\n",
    "\n",
    "\\boldsymbol y &= \\boldsymbol{x} W \\\\\n",
    "\n",
    "&=\n",
    "\n",
    "\\begin{pmatrix}\n",
    "\n",
    "x_{11} & x_{12} & \\cdots & x_{1b} \\\\\n",
    "\n",
    "x_{21} & x_{22} & \\cdots & x_{2b} \\\\\n",
    "\n",
    "\\vdots & \\vdots & \\ddots & \\vdots \\\\\n",
    "\n",
    "x_{a1} & x_{a2} & \\cdots & x_{ab}\n",
    "\n",
    "\\end{pmatrix}\n",
    "\n",
    "\\begin{pmatrix}\n",
    "\n",
    "w_{11} & w_{12} & \\cdots & w_{1c} \\\\\n",
    "\n",
    "w_{21} & w_{22} & \\cdots & w_{2c} \\\\\n",
    "\n",
    "\\vdots & \\vdots & \\ddots & \\vdots \\\\\n",
    "\n",
    "w_{b1} & w_{b2} & \\cdots & w_{bc}\n",
    "\n",
    "\\end{pmatrix}\n",
    "\n",
    "\\\\\n",
    "\n",
    "\\Leftrightarrow &=\n",
    "\n",
    "\\begin{pmatrix}\n",
    "\n",
    "x_{11}w_{11} + x_{12}w_{21} +  \\cdots + x_{1b}w_{b1} & \\cdots & x_{11}w_{1c} + x_{12}w_{2c} +  \\cdots + x_{1b}w_{bc}\\\\\n",
    "\n",
    "x_{21}w_{11} + x_{22}w_{21} +  \\cdots + x_{2b}w_{b1} & \\cdots & x_{21}w_{1c} + x_{22}w_{2c} +  \\cdots + x_{2b}w_{bc} \\\\\n",
    "\n",
    "\\vdots & \\ddots & \\vdots \\\\\n",
    "\n",
    "x_{a1}w_{11} + x_{a2}w_{21} +  \\cdots + x_{ab}w_{b1} & \\cdots & x_{a1}w_{1c} + x_{a2}w_{2c} +  \\cdots + x_{ab}w_{bc}\n",
    "\n",
    "\\end{pmatrix}\n",
    "\n",
    "\\\\\n",
    "\n",
    "\\Leftrightarrow &= \n",
    "\n",
    "\\begin{pmatrix}\n",
    "\n",
    "\\sum_{k=1}^{b} x_{1k}w_{k1} & \\sum_{k=1}^{b} x_{1k}w_{k2} & \\cdots & \\sum_{k=1}^{b} x_{1k}w_{kc} \\\\\n",
    "\n",
    "\\sum_{k=1}^{b} x_{2k}w_{k1} & \\sum_{k=1}^{b} x_{2k}w_{k2} & \\cdots & \\sum_{k=1}^{b} x_{2k}w_{kc} \\\\\n",
    "\n",
    "\\vdots & \\vdots & \\ddots & \\vdots \\\\\n",
    "\n",
    "\\sum_{k=1}^{b} x_{ak}w_{k1} & \\sum_{k=1}^{b} x_{ak}w_{k2} & \\cdots & \\sum_{k=1}^{b} x_{ak}w_{kc}\n",
    "\n",
    "\\end{pmatrix}\n",
    "\n",
    "\\\\\n",
    "\n",
    "\\Leftrightarrow &= \n",
    "\n",
    "\\begin{pmatrix}\n",
    "\n",
    "y_{11} & y_{12} & \\cdots & y_{1c} \\\\\n",
    "\n",
    "y_{21} & y_{22} & \\cdots & y_{2c} \\\\\n",
    "\n",
    "\\vdots & \\vdots & \\ddots & \\vdots \\\\\n",
    "\n",
    "y_{a1} & y_{a2} & \\cdots & y_{ac}\n",
    "\n",
    "\\end{pmatrix}\n",
    "\n",
    "\\\\\n",
    "\n",
    "\\\\\n",
    "\n",
    "L &= Loss(\\boldsymbol y)\n",
    "\n",
    "\\end{aligned}\n",
    "\n",
    "$$\n",
    "\n",
    "#### ① $\\boldsymbol x$の勾配$\\frac{\\partial L}{\\partial \\boldsymbol x}$\n",
    "\n",
    "このとき、$\\boldsymbol x$の$(i, \\ j)$成分に関する微分は、$\\boldsymbol y$の$i$行目の微分の総和になるので、<br>\n",
    "\n",
    "$$\n",
    "\n",
    "\\frac{\\partial L}{\\partial x_{ij}} = \\sum_{k = 1}^{c} \\frac{\\partial L}{\\partial y_{ik}} \\frac{\\partial y_{ik}}{\\partial x_{ij}}　\\tag{1} \n",
    "\n",
    "$$\n",
    "\n",
    "式(1)はまだ簡単にできて、\n",
    "\n",
    "$$\n",
    "\n",
    "\\begin{aligned}\n",
    "\n",
    "\\frac{\\partial y_{ik}}{\\partial x_{ij}} &= w_{jk} \\\\\n",
    "\n",
    "( \\ \\because y_{ik} &= x_{i1}w_{1k} + \\cdots +  x_{ij}w_{jk} + \\cdots + x_{ib}w_{bk}) \\\\\n",
    "\n",
    "\\\\\n",
    "\\therefore\n",
    "\n",
    "\\frac{\\partial L}{\\partial x_{ij}} &= \\sum_{k = 1}^{c} \\frac{\\partial L}{\\partial y_{ik}} \\frac{\\partial y_{ik}}{\\partial x_{ij}} = \\sum_{k = 1}^{c} \\frac{\\partial L}{\\partial y_{ik}} w_{jk}\n",
    "\n",
    "\\end{aligned}\n",
    "\n",
    "$$\n",
    "\n",
    "以上のことから$\\frac{\\partial L}{\\partial x_{ij}}$は、「行列$\\frac{\\partial L}{\\partial \\boldsymbol y}$の$i$行目のベクトル」と「行列$W$の$j$行目のベクトル」の内積によって求められる。よって、\n",
    "\n",
    "$$\n",
    "\n",
    "\\begin{aligned}\n",
    "\n",
    "\\frac{\\partial L}{\\partial \\boldsymbol x} &=\n",
    "\n",
    "\\begin{pmatrix}\n",
    "\n",
    "\\frac{\\partial L}{\\partial y_{11}} & \\frac{\\partial L}{\\partial y_{12}} & \\cdots & \\frac{\\partial L}{\\partial x_{1c}} \\\\\n",
    "\n",
    " \\frac{\\partial L}{\\partial y_{21}} & \\frac{\\partial L}{\\partial y_{22}} & \\cdots & \\frac{\\partial L}{\\partial x_{2c}} \\\\\n",
    "\n",
    "\\vdots & \\vdots & \\ddots & \\vdots \\\\\n",
    "\n",
    " \\frac{\\partial L}{\\partial y_{a1}} & \\frac{\\partial L}{\\partial y_{a2}} & \\cdots & \\frac{\\partial L}{\\partial y_{ac}} \n",
    "\n",
    "\\end{pmatrix}\n",
    "\n",
    "\\begin{pmatrix}\n",
    "\n",
    "w_{11} & w_{12} & \\cdots & w_{1c} \\\\\n",
    "\n",
    "w_{21} & w_{22} & \\cdots & w_{2c} \\\\\n",
    "\n",
    "\\vdots & \\vdots & \\ddots & \\vdots \\\\\n",
    "\n",
    "w_{b1} & w_{b2} & \\cdots & w_{bc}\n",
    "\n",
    "\\end{pmatrix} ^T\n",
    "\n",
    "\\\\\n",
    "\n",
    "\\\\\n",
    "\n",
    "\\Leftrightarrow &=\n",
    "\n",
    "\\frac{\\partial L}{\\partial \\boldsymbol y} W^T\n",
    "\n",
    "\\end{aligned}\n",
    "\n",
    "$$\n",
    "\n",
    "となる。"
   ]
  },
  {
   "cell_type": "markdown",
   "metadata": {},
   "source": [
    "#### ② $W$の勾配$\\frac{\\partial L}{\\partial W}$\n",
    "\n",
    "$W$の$(i, \\ j)$成分に関する微分は、$\\boldsymbol y$の$j$列目の微分の総和になるので、\n",
    "\n",
    "$$\n",
    "\n",
    "\\frac{\\partial L}{\\partial w_{ij}} = \\sum_{k=1}^{a} \\frac{\\partial L}{\\partial y_{kj}} \\frac{\\partial y_{kj}}{\\partial w_{ij}}\n",
    "\n",
    "$$\n",
    "\n",
    "また、\n",
    "\n",
    "$$\n",
    "\n",
    "\\begin{aligned}\n",
    "\n",
    "\\frac{\\partial y_{kj}}{\\partial w_{ij}} &= x_{ki} \\\\\n",
    "\n",
    "(\\because &= x_{k0}w_{0j} + \\cdots + x_{ki}w_{ij} + \\cdots + x_{kb}w_{bj}) \\\\\n",
    "\n",
    "\\\\\n",
    "\n",
    "\\therefore\n",
    "\n",
    "\\frac{\\partial L}{\\partial x_{ij}} &= \\sum_{k = 1}^{a} \\frac{\\partial L}{\\partial y_{kj}} \\frac{\\partial y_{kj}}{\\partial x_{ij}} = \\sum_{k = 1}^{a} \\frac{\\partial L}{\\partial y_{kj}} x_{ki}\n",
    "\n",
    "\\end{aligned}\n",
    "\n",
    "$$\n",
    "\n",
    "以上のことから$\\frac{\\partial L}{\\partial W_{ij}}$は、「行列$\\boldsymbol x$の$i$列目の列ベクトル」と「行列$W$の$j$列目の列ベクトル」との内積となる。よって、\n",
    "\n",
    "$$\n",
    "\n",
    "\\begin{aligned}\n",
    "\n",
    "\\frac{\\partial L}{\\partial W} &=\n",
    "\n",
    "\\begin{pmatrix}\n",
    "\n",
    "x_{11} & x_{12} & \\cdots & w_{1b} \\\\\n",
    "\n",
    "x_{21} & x_{22} & \\cdots & w_{2b} \\\\\n",
    "\n",
    "\\vdots & \\vdots & \\ddots & \\vdots \\\\\n",
    "\n",
    "x_{a1} & x_{a2} & \\cdots & w_{ab}\n",
    "\n",
    "\\end{pmatrix} ^T\n",
    "\n",
    "\n",
    "\\begin{pmatrix}\n",
    "\n",
    "\\frac{\\partial L}{\\partial y_{11}} & \\frac{\\partial L}{\\partial y_{12}} & \\cdots & \\frac{\\partial L}{\\partial y_{1c}} \\\\\n",
    "\n",
    " \\frac{\\partial L}{\\partial y_{21}} & \\frac{\\partial L}{\\partial y_{22}} & \\cdots & \\frac{\\partial L}{\\partial y_{2c}} \\\\\n",
    "\n",
    "\\vdots & \\vdots & \\ddots & \\vdots \\\\\n",
    "\n",
    " \\frac{\\partial L}{\\partial y_{a1}} & \\frac{\\partial L}{\\partial y_{a2}} & \\cdots & \\frac{\\partial L}{\\partial y_{ac}} \n",
    "\n",
    "\\end{pmatrix}\n",
    "\n",
    "\\\\\n",
    "\n",
    "\\\\\n",
    "\n",
    "\\Leftrightarrow &=\n",
    "\n",
    "\\boldsymbol x^T \\frac{\\partial L}{\\partial \\boldsymbol y}\n",
    "\n",
    "\\end{aligned}\n",
    "\n",
    "$$\n"
   ]
  },
  {
   "cell_type": "markdown",
   "metadata": {},
   "source": [
    "#### ③ 行列の形状\n",
    "\n",
    "次に、$y = xW$において、行列の形状に注目すると、\n",
    "\n",
    "$$\n",
    "\n",
    "\\begin{aligned}\n",
    "\n",
    "\\frac{\\partial L}{\\partial x} \\quad &= \\quad \\frac{\\partial L}{\\partial y} \\quad \\quad  W^T \\\\\n",
    "\n",
    "(a \\times b) & \\quad \\ (a \\times c) \\quad  (c \\times b) \\\\\n",
    "\n",
    "\\\\\n",
    "\n",
    "\\frac{\\partial L}{\\partial W} \\quad &= \\quad  x^T \\quad \\quad \\frac{\\partial L}{\\partial y} \\\\\n",
    "\n",
    "(b \\times c) & \\quad \\ (b \\times a) \\quad  (a \\times c)\n",
    "\n",
    "\\end{aligned}\n",
    "\n",
    "$$\n",
    "\n",
    "のようにすれば、入力する$x, \\ W$の形状と、逆伝播で求める$\\frac{\\partial L}{\\partial x}, \\ \\frac{\\partial L}{\\partial W}$の形状とが一致することがわかる。"
   ]
  },
  {
   "cell_type": "code",
   "execution_count": 31,
   "metadata": {},
   "outputs": [
    {
     "name": "stdout",
     "output_type": "stream",
     "text": [
      "(2, 3)\n",
      "(3, 4)\n"
     ]
    }
   ],
   "source": [
    "x = Variable(np.random.randn(2, 3))\n",
    "W = Variable(np.random.randn(3, 4))\n",
    "y = F.matmul(x, W)\n",
    "y.backward()\n",
    "\n",
    "print(x.grad.shape)\n",
    "print(W.grad.shape)"
   ]
  },
  {
   "cell_type": "markdown",
   "metadata": {},
   "source": [
    "## ステップ42 線形回帰\n",
    "\n",
    "### 42.1 トイ・データセット"
   ]
  },
  {
   "cell_type": "code",
   "execution_count": 32,
   "metadata": {},
   "outputs": [],
   "source": [
    "np.random.seed(0)\n",
    "x = np.random.rand(100, 1)\n",
    "y = 5 + 2 * x + np.random.rand(100, 1)"
   ]
  },
  {
   "cell_type": "code",
   "execution_count": 33,
   "metadata": {},
   "outputs": [
    {
     "data": {
      "image/png": "[encoded data removed]",
      "text/plain": [
       "<Figure size 504x504 with 1 Axes>"
      ]
     },
     "metadata": {
      "needs_background": "light"
     },
     "output_type": "display_data"
    }
   ],
   "source": [
    "fig, ax = plt.subplots(1, 1, figsize=(7,7))\n",
    "ax.scatter(x, y)\n",
    "ax.tick_params(axis='both', labelsize=20)\n",
    "ax.set_ylabel('y', fontsize=20, labelpad=10)\n",
    "ax.set_xlabel('x', fontsize=20, labelpad=10)\n",
    "fig.tight_layout()"
   ]
  },
  {
   "cell_type": "markdown",
   "metadata": {},
   "source": [
    "### 42.2 線形回帰の理論\n",
    "上記のデータに合うような直線$y=Wx+b$を見つける。<br>\n",
    "データとモデルの誤差を平均２乗誤差で定義し、この誤差を最小化する$W$と$b$を見つける。\n",
    "\n",
    "$$\n",
    "\\begin{aligned}\n",
    "\\boldsymbol y &= f(\\boldsymbol x) = W \\boldsymbol x + \\boldsymbol b \\\\\n",
    "L &= \\frac{1}{N}\\sum_{i=1}^{n} \\bigl(f(x_i) - y_i \\bigr)^2\n",
    "\\end{aligned}\n",
    "$$"
   ]
  },
  {
   "cell_type": "code",
   "execution_count": 34,
   "metadata": {},
   "outputs": [],
   "source": [
    "# トイ・データセット\n",
    "np.random.seed(0)\n",
    "x = np.random.rand(100, 1)\n",
    "y = 5 + 2 * x + np.random.rand(100, 1)\n",
    "x, y = Variable(x), Variable(y) # 省略可\n",
    "\n",
    "W = Variable(np.zeros((1, 1)))\n",
    "b = Variable(np.zeros(1))"
   ]
  },
  {
   "cell_type": "code",
   "execution_count": 35,
   "metadata": {},
   "outputs": [],
   "source": [
    "def predict(x):\n",
    "    y = F.matmul(x, W) + b\n",
    "    return y"
   ]
  },
  {
   "cell_type": "code",
   "execution_count": 36,
   "metadata": {},
   "outputs": [],
   "source": [
    "def mean_squared_error(x0, x1):\n",
    "    diff = x0 - x1\n",
    "    return F.sum(diff ** 2) / len(diff)"
   ]
  },
  {
   "cell_type": "code",
   "execution_count": 37,
   "metadata": {},
   "outputs": [
    {
     "name": "stdout",
     "output_type": "stream",
     "text": [
      "variable([[0.64433458]]) variable([1.29473389]) variable(42.296340129442335)\n",
      "variable([[2.425382]]) variable([5.02561369]) variable(0.24915731977561134)\n",
      "variable([[2.45731071]]) variable([5.27768752]) variable(0.10078974954301652)\n",
      "variable([[2.39696452]]) variable([5.3238]) variable(0.09461859803040694)\n",
      "variable([[2.33913091]]) variable([5.35400772]) variable(0.0902667138137311)\n",
      "variable([[2.28830557]]) variable([5.37981674]) variable(0.08694585483964615)\n",
      "variable([[2.24388206]]) variable([5.40233244]) variable(0.08441084206493275)\n",
      "variable([[2.20506799]]) variable([5.42200258]) variable(0.08247571022229121)\n",
      "variable([[2.17115586]]) variable([5.43918838]) variable(0.08099850454041051)\n",
      "variable([[2.14152662]]) variable([5.45420371]) variable(0.07987086218625004)\n",
      "variable([[2.11807369]]) variable([5.46608905]) variable(0.07908606512411756)\n"
     ]
    }
   ],
   "source": [
    "lr = 0.1\n",
    "iters = 100\n",
    "\n",
    "for i in range(iters):\n",
    "    y_pred = predict(x)\n",
    "    loss = mean_squared_error(y, y_pred)\n",
    "    \n",
    "    W.cleargrad()\n",
    "    b.cleargrad()\n",
    "    loss.backward()\n",
    "    \n",
    "    W.data -= lr * W.grad.data\n",
    "    b.data -= lr * b.grad.data\n",
    "    if i % 10 == 0:\n",
    "        print(W, b, loss)\n",
    "\n",
    "print(W, b, loss)"
   ]
  },
  {
   "cell_type": "code",
   "execution_count": 38,
   "metadata": {},
   "outputs": [
    {
     "data": {
      "image/png": "[encoded data removed]",
      "text/plain": [
       "<Figure size 504x504 with 1 Axes>"
      ]
     },
     "metadata": {
      "needs_background": "light"
     },
     "output_type": "display_data"
    }
   ],
   "source": [
    "fig, ax = plt.subplots(1, 1, figsize=(7,7))\n",
    "ax.scatter(x.data, y.data, s=100)\n",
    "ax.plot(x.data, y_pred.data, color='red', linewidth=3)\n",
    "ax.tick_params(axis='both', labelsize=20)\n",
    "ax.set_ylabel('y', fontsize=20, labelpad=10)\n",
    "ax.set_xlabel('x', fontsize=20, labelpad=10)\n",
    "fig.tight_layout()"
   ]
  },
  {
   "cell_type": "markdown",
   "metadata": {},
   "source": [
    "### 42.4 【補足】DeZeroのmean_squared_error関数"
   ]
  },
  {
   "cell_type": "code",
   "execution_count": null,
   "metadata": {},
   "outputs": [],
   "source": []
  }
 ],
 "metadata": {
  "kernelspec": {
   "display_name": "Python 3.7.10 ('pytorch': conda)",
   "language": "python",
   "name": "python3"
  },
  "language_info": {
   "codemirror_mode": {
    "name": "ipython",
    "version": 3
   },
   "file_extension": ".py",
   "mimetype": "text/x-python",
   "name": "python",
   "nbconvert_exporter": "python",
   "pygments_lexer": "ipython3",
   "version": "3.7.10"
  },
  "orig_nbformat": 4,
  "vscode": {
   "interpreter": {
    "hash": "d62b7059efc6466fc95c4734c71a3d4ec880ec93371e3e4a23230bdabcccc75d"
   }
  }
 },
 "nbformat": 4,
 "nbformat_minor": 2
}
